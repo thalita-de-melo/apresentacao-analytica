{
  "cells": [
    {
      "cell_type": "code",
      "execution_count": null,
      "metadata": {},
      "outputs": [],
      "source": [
        "!pip install spacy"
      ]
    },
    {
      "cell_type": "code",
      "execution_count": null,
      "metadata": {
        "colab": {
          "base_uri": "https://localhost:8080/"
        },
        "id": "wW-M_Co-Oi6O",
        "outputId": "33689061-c33b-4455-f387-534ede51a51d"
      },
      "outputs": [
        {
          "name": "stdout",
          "output_type": "stream",
          "text": [
            "2023-11-23 19:38:57.082964: E tensorflow/compiler/xla/stream_executor/cuda/cuda_dnn.cc:9342] Unable to register cuDNN factory: Attempting to register factory for plugin cuDNN when one has already been registered\n",
            "2023-11-23 19:38:57.083020: E tensorflow/compiler/xla/stream_executor/cuda/cuda_fft.cc:609] Unable to register cuFFT factory: Attempting to register factory for plugin cuFFT when one has already been registered\n",
            "2023-11-23 19:38:57.083065: E tensorflow/compiler/xla/stream_executor/cuda/cuda_blas.cc:1518] Unable to register cuBLAS factory: Attempting to register factory for plugin cuBLAS when one has already been registered\n",
            "2023-11-23 19:38:57.094752: I tensorflow/core/platform/cpu_feature_guard.cc:182] This TensorFlow binary is optimized to use available CPU instructions in performance-critical operations.\n",
            "To enable the following instructions: AVX2 FMA, in other operations, rebuild TensorFlow with the appropriate compiler flags.\n",
            "2023-11-23 19:38:59.599818: W tensorflow/compiler/tf2tensorrt/utils/py_utils.cc:38] TF-TRT Warning: Could not find TensorRT\n",
            "2023-11-23 19:39:01.700226: I tensorflow/compiler/xla/stream_executor/cuda/cuda_gpu_executor.cc:894] successful NUMA node read from SysFS had negative value (-1), but there must be at least one NUMA node, so returning NUMA node zero. See more at https://github.com/torvalds/linux/blob/v6.0/Documentation/ABI/testing/sysfs-bus-pci#L344-L355\n",
            "2023-11-23 19:39:01.700743: I tensorflow/compiler/xla/stream_executor/cuda/cuda_gpu_executor.cc:894] successful NUMA node read from SysFS had negative value (-1), but there must be at least one NUMA node, so returning NUMA node zero. See more at https://github.com/torvalds/linux/blob/v6.0/Documentation/ABI/testing/sysfs-bus-pci#L344-L355\n",
            "2023-11-23 19:39:01.700930: I tensorflow/compiler/xla/stream_executor/cuda/cuda_gpu_executor.cc:894] successful NUMA node read from SysFS had negative value (-1), but there must be at least one NUMA node, so returning NUMA node zero. See more at https://github.com/torvalds/linux/blob/v6.0/Documentation/ABI/testing/sysfs-bus-pci#L344-L355\n",
            "Collecting en-core-web-lg==3.6.0\n",
            "  Downloading https://github.com/explosion/spacy-models/releases/download/en_core_web_lg-3.6.0/en_core_web_lg-3.6.0-py3-none-any.whl (587.7 MB)\n",
            "\u001b[2K     \u001b[90m━━━━━━━━━━━━━━━━━━━━━━━━━━━━━━━━━━━━━━━━\u001b[0m \u001b[32m587.7/587.7 MB\u001b[0m \u001b[31m3.0 MB/s\u001b[0m eta \u001b[36m0:00:00\u001b[0m\n",
            "\u001b[?25hRequirement already satisfied: spacy<3.7.0,>=3.6.0 in /usr/local/lib/python3.10/dist-packages (from en-core-web-lg==3.6.0) (3.6.1)\n",
            "Requirement already satisfied: spacy-legacy<3.1.0,>=3.0.11 in /usr/local/lib/python3.10/dist-packages (from spacy<3.7.0,>=3.6.0->en-core-web-lg==3.6.0) (3.0.12)\n",
            "Requirement already satisfied: spacy-loggers<2.0.0,>=1.0.0 in /usr/local/lib/python3.10/dist-packages (from spacy<3.7.0,>=3.6.0->en-core-web-lg==3.6.0) (1.0.5)\n",
            "Requirement already satisfied: murmurhash<1.1.0,>=0.28.0 in /usr/local/lib/python3.10/dist-packages (from spacy<3.7.0,>=3.6.0->en-core-web-lg==3.6.0) (1.0.10)\n",
            "Requirement already satisfied: cymem<2.1.0,>=2.0.2 in /usr/local/lib/python3.10/dist-packages (from spacy<3.7.0,>=3.6.0->en-core-web-lg==3.6.0) (2.0.8)\n",
            "Requirement already satisfied: preshed<3.1.0,>=3.0.2 in /usr/local/lib/python3.10/dist-packages (from spacy<3.7.0,>=3.6.0->en-core-web-lg==3.6.0) (3.0.9)\n",
            "Requirement already satisfied: thinc<8.2.0,>=8.1.8 in /usr/local/lib/python3.10/dist-packages (from spacy<3.7.0,>=3.6.0->en-core-web-lg==3.6.0) (8.1.12)\n",
            "Requirement already satisfied: wasabi<1.2.0,>=0.9.1 in /usr/local/lib/python3.10/dist-packages (from spacy<3.7.0,>=3.6.0->en-core-web-lg==3.6.0) (1.1.2)\n",
            "Requirement already satisfied: srsly<3.0.0,>=2.4.3 in /usr/local/lib/python3.10/dist-packages (from spacy<3.7.0,>=3.6.0->en-core-web-lg==3.6.0) (2.4.8)\n",
            "Requirement already satisfied: catalogue<2.1.0,>=2.0.6 in /usr/local/lib/python3.10/dist-packages (from spacy<3.7.0,>=3.6.0->en-core-web-lg==3.6.0) (2.0.10)\n",
            "Requirement already satisfied: typer<0.10.0,>=0.3.0 in /usr/local/lib/python3.10/dist-packages (from spacy<3.7.0,>=3.6.0->en-core-web-lg==3.6.0) (0.9.0)\n",
            "Requirement already satisfied: pathy>=0.10.0 in /usr/local/lib/python3.10/dist-packages (from spacy<3.7.0,>=3.6.0->en-core-web-lg==3.6.0) (0.10.3)\n",
            "Requirement already satisfied: smart-open<7.0.0,>=5.2.1 in /usr/local/lib/python3.10/dist-packages (from spacy<3.7.0,>=3.6.0->en-core-web-lg==3.6.0) (6.4.0)\n",
            "Requirement already satisfied: tqdm<5.0.0,>=4.38.0 in /usr/local/lib/python3.10/dist-packages (from spacy<3.7.0,>=3.6.0->en-core-web-lg==3.6.0) (4.66.1)\n",
            "Requirement already satisfied: numpy>=1.15.0 in /usr/local/lib/python3.10/dist-packages (from spacy<3.7.0,>=3.6.0->en-core-web-lg==3.6.0) (1.23.5)\n",
            "Requirement already satisfied: requests<3.0.0,>=2.13.0 in /usr/local/lib/python3.10/dist-packages (from spacy<3.7.0,>=3.6.0->en-core-web-lg==3.6.0) (2.31.0)\n",
            "Requirement already satisfied: pydantic!=1.8,!=1.8.1,<3.0.0,>=1.7.4 in /usr/local/lib/python3.10/dist-packages (from spacy<3.7.0,>=3.6.0->en-core-web-lg==3.6.0) (1.10.13)\n",
            "Requirement already satisfied: jinja2 in /usr/local/lib/python3.10/dist-packages (from spacy<3.7.0,>=3.6.0->en-core-web-lg==3.6.0) (3.1.2)\n",
            "Requirement already satisfied: setuptools in /usr/local/lib/python3.10/dist-packages (from spacy<3.7.0,>=3.6.0->en-core-web-lg==3.6.0) (67.7.2)\n",
            "Requirement already satisfied: packaging>=20.0 in /usr/local/lib/python3.10/dist-packages (from spacy<3.7.0,>=3.6.0->en-core-web-lg==3.6.0) (23.2)\n",
            "Requirement already satisfied: langcodes<4.0.0,>=3.2.0 in /usr/local/lib/python3.10/dist-packages (from spacy<3.7.0,>=3.6.0->en-core-web-lg==3.6.0) (3.3.0)\n",
            "Requirement already satisfied: typing-extensions>=4.2.0 in /usr/local/lib/python3.10/dist-packages (from pydantic!=1.8,!=1.8.1,<3.0.0,>=1.7.4->spacy<3.7.0,>=3.6.0->en-core-web-lg==3.6.0) (4.5.0)\n",
            "Requirement already satisfied: charset-normalizer<4,>=2 in /usr/local/lib/python3.10/dist-packages (from requests<3.0.0,>=2.13.0->spacy<3.7.0,>=3.6.0->en-core-web-lg==3.6.0) (3.3.2)\n",
            "Requirement already satisfied: idna<4,>=2.5 in /usr/local/lib/python3.10/dist-packages (from requests<3.0.0,>=2.13.0->spacy<3.7.0,>=3.6.0->en-core-web-lg==3.6.0) (3.4)\n",
            "Requirement already satisfied: urllib3<3,>=1.21.1 in /usr/local/lib/python3.10/dist-packages (from requests<3.0.0,>=2.13.0->spacy<3.7.0,>=3.6.0->en-core-web-lg==3.6.0) (2.0.7)\n",
            "Requirement already satisfied: certifi>=2017.4.17 in /usr/local/lib/python3.10/dist-packages (from requests<3.0.0,>=2.13.0->spacy<3.7.0,>=3.6.0->en-core-web-lg==3.6.0) (2023.7.22)\n",
            "Requirement already satisfied: blis<0.8.0,>=0.7.8 in /usr/local/lib/python3.10/dist-packages (from thinc<8.2.0,>=8.1.8->spacy<3.7.0,>=3.6.0->en-core-web-lg==3.6.0) (0.7.11)\n",
            "Requirement already satisfied: confection<1.0.0,>=0.0.1 in /usr/local/lib/python3.10/dist-packages (from thinc<8.2.0,>=8.1.8->spacy<3.7.0,>=3.6.0->en-core-web-lg==3.6.0) (0.1.3)\n",
            "Requirement already satisfied: click<9.0.0,>=7.1.1 in /usr/local/lib/python3.10/dist-packages (from typer<0.10.0,>=0.3.0->spacy<3.7.0,>=3.6.0->en-core-web-lg==3.6.0) (8.1.7)\n",
            "Requirement already satisfied: MarkupSafe>=2.0 in /usr/local/lib/python3.10/dist-packages (from jinja2->spacy<3.7.0,>=3.6.0->en-core-web-lg==3.6.0) (2.1.3)\n",
            "Installing collected packages: en-core-web-lg\n",
            "Successfully installed en-core-web-lg-3.6.0\n",
            "\u001b[38;5;2m✔ Download and installation successful\u001b[0m\n",
            "You can now load the package via spacy.load('en_core_web_lg')\n"
          ]
        }
      ],
      "source": [
        "!python -m spacy download en_core_web_lg"
      ]
    },
    {
      "cell_type": "code",
      "execution_count": null,
      "metadata": {
        "colab": {
          "base_uri": "https://localhost:8080/"
        },
        "id": "c1bvArOeOV4t",
        "outputId": "972e1b55-f2b8-400e-f1fd-5abc2ec2e2f7"
      },
      "outputs": [
        {
          "name": "stdout",
          "output_type": "stream",
          "text": [
            "palavra: Abberger\n",
            "label:  PERSON\n",
            "----------------------------------\n",
            "palavra: K.\n",
            "label:  PERSON\n",
            "----------------------------------\n",
            "palavra: 2006\n",
            "label:  DATE\n",
            "----------------------------------\n",
            "palavra: Another Look at the Ifo Business Cycle Clock\n",
            "label:  WORK_OF_ART\n",
            "----------------------------------\n",
            "palavra: Journal of Business Cycle Measurement and Analysis\n",
            "label:  ORG\n",
            "----------------------------------\n",
            "palavra: 2005/3.Abberger\n",
            "label:  CARDINAL\n",
            "----------------------------------\n",
            "palavra: K.\n",
            "label:  NORP\n",
            "----------------------------------\n",
            "palavra: W. Nierhaus\n",
            "label:  PERSON\n",
            "----------------------------------\n",
            "palavra: 2008\n",
            "label:  DATE\n",
            "----------------------------------\n",
            "palavra: Ein Präzisionswerk\n",
            "label:  PERSON\n",
            "----------------------------------\n",
            "palavra: Analyse der Wirtschaft\n",
            "label:  ORG\n",
            "----------------------------------\n",
            "palavra: 61(23\n",
            "label:  CARDINAL\n",
            "----------------------------------\n",
            "palavra: 16–24\n",
            "label:  DATE\n",
            "----------------------------------\n",
            "palavra: Agresti\n",
            "label:  PERSON\n",
            "----------------------------------\n",
            "palavra: B. Mojon\n",
            "label:  PERSON\n",
            "----------------------------------\n",
            "palavra: 2001\n",
            "label:  DATE\n",
            "----------------------------------\n",
            "palavra: Some Stylized Facts on the Euro Area Business Cycle\n",
            "label:  WORK_OF_ART\n",
            "----------------------------------\n",
            "palavra: 95\n",
            "label:  CARDINAL\n",
            "----------------------------------\n",
            "palavra: ECB\n",
            "label:  ORG\n",
            "----------------------------------\n"
          ]
        }
      ],
      "source": [
        "import spacy\n",
        "\n",
        "nlp = spacy.load(\"en_core_web_lg\")\n",
        "\n",
        "referencia = \"Abberger, K. (2006). “Another Look at the Ifo Business Cycle Clock.” Journal of \\\n",
        "Business Cycle Measurement and Analysis, 2005/3.\\\n",
        "Abberger, K. and W. Nierhaus (2008). “Die ifo Konjunkturuhr: Ein Präzisionswerk \\\n",
        "zur Analyse der Wirtschaft.” ifo Schnelldienst, 61(23), 16–24. \\\n",
        "Agresti, A. and B. Mojon (2001). “Some Stylized Facts on the Euro Area Business \\\n",
        "Cycle.” Working paper series no. 95, ECB.\"\n",
        "\n",
        "doc = nlp(referencia)\n",
        "\n",
        "for entidade in doc.ents:\n",
        "  print('palavra:', entidade.text)\n",
        "  print('label: ', entidade.label_)\n",
        "  print('----------------------------------')"
      ]
    },
    {
      "cell_type": "markdown",
      "metadata": {
        "id": "HJ8WF5pl69xU"
      },
      "source": [
        "Treino usando o dataset criado no doccano (mais ou menos 114 frases)"
      ]
    },
    {
      "cell_type": "code",
      "execution_count": null,
      "metadata": {
        "id": "pqvTG2bYwqbN"
      },
      "outputs": [],
      "source": [
        "TRAIN_DATA = [{'id': 87, 'text': 'Han, J., Meyer, B.D., & Sullivan, J.X. 2020. Income and Poverty in the COVID-19 Pandemic (No. w27729). National Bureau of Economic Research.', 'label': [[0, 7, 'PERSON'], [9, 20, 'PERSON'], [24, 38, 'PERSON'], [39, 43, 'YEAR'], [45, 101, 'WORK'], [103, 140, 'JOURNAL']], 'Comments': []}, {'id': 88, 'text': 'Hirvonen, K., de Brauw, A., & Abate, G.T. 2021. Food consumption and food security during the COVID‐19 pandemic in Addis Ababa. American Journal of Agricultural Economics, 103(3), pp. 772–789. https://doi.org/10.1111/ajae.12206', 'label': [[0, 12, 'PERSON'], [14, 26, 'PERSON'], [30, 41, 'PERSON'], [42, 46, 'YEAR'], [48, 170, 'WORK'], [192, 227, 'DOI']], 'Comments': []}, {'id': 89, 'text': 'Juhro, S.M., & Iyke, B.N., 2020. Consumer confidence and consumption expenditure in Indonesia, Economic Modelling, 89, pp. 367–377, https://doi.org/10.1016/j.econmod.2019.11.001.', 'label': [[0, 11, 'PERSON'], [15, 25, 'PERSON'], [27, 31, 'YEAR'], [33, 113, 'WORK'], [132, 177, 'DOI']], 'Comments': []}, {'id': 90, 'text': 'Ludvigson, S.C., Ma, S., & Ng, S. 2020. COVID-19 and the macroeconomic effects of costly disasters (No. w26987). National Bureau of Economic Research.', 'label': [[0, 15, 'PERSON'], [17, 23, 'PERSON'], [27, 33, 'PERSON'], [34, 38, 'YEAR'], [40, 99, 'WORK'], [113, 149, 'JOURNAL']], 'Comments': []}, {'id': 91, 'text': 'McKibbin, W., & Fernando, R., 2021. The global macroeconomic impacts of COVID-19: Seven scenarios. Asian Economic Papers, 20(2), pp. 1–30. 10.1162/asep_a_00796', 'label': [[0, 12, 'PERSON'], [16, 28, 'PERSON'], [30, 34, 'YEAR'], [36, 98, 'WORK'], [99, 120, 'JOURNAL'], [139, 159, 'DOI']], 'Comments': []}, {'id': 92, 'text': 'Olivia, S., Gibson, J., & Nasrudin, R.A. 2020. Indonesia in the Time of Covid-19. Bulletin of Indonesian Economic Studies, 56(2), pp. 143–174. https://doi.org/10.1080/00074918-.2020.1798581', 'label': [[0, 10, 'PERSON'], [12, 22, 'PERSON'], [26, 40, 'PERSON'], [41, 45, 'YEAR'], [47, 81, 'WORK'], [82, 121, 'JOURNAL'], [143, 189, 'DOI']], 'Comments': []}, {'id': 93, 'text': 'Ridhwan, M.M. 2021. Spatial wage disparities and agglomeration externalities: Evidence from Indonesian microdata. Economic Analysis and Policy, 71 (Sept), pp. 573–591. https://doi.org/10.1016/j.eap.2021.06.013', 'label': [[0, 12, 'PERSON'], [14, 18, 'YEAR'], [20, 113, 'WORK'], [114, 142, 'JOURNAL'], [168, 209, 'DOI']], 'Comments': []}, {'id': 94, 'text': 'Rizvi, S.A., Juhro, S.M., & Narayan, P.K. 2021. Understanding market reaction to Covid-19 monetary and fiscal stimulus in major ASEAN countries. Bulletin of Monetary Economics and Banking, 24(3), pp. 313–334. https://doi.org/10.21098/bemp.v24i3.1690', 'label': [[0, 10, 'PERSON'], [13, 24, 'PERSON'], [28, 41, 'PERSON'], [42, 46, 'YEAR'], [48, 143, 'WORK'], [145, 187, 'JOURNAL'], [209, 249, 'DOI']], 'Comments': []}, {'id': 95, 'text': 'Sparrow, R., Dartanto, T., & Hartwig, R., 2020. Indonesia under the new normal: Challenges and the way ahead. Bulletin of Indonesian Economic Studies, 56(3), pp. 269–299. https://doi.org/10.1080/00074918.2020.1854079', 'label': [[0, 11, 'PERSON'], [13, 25, 'PERSON'], [29, 40, 'PERSON'], [42, 46, 'YEAR'], [48, 109, 'WORK'], [110, 150, 'JOURNAL'], [171, 216, 'DOI']], 'Comments': []}, {'id': 96, 'text': 'Suryahadi, A., Al Izzati, R., & Suryadarma, D. 2020. Estimating the impact of covid-19 on poverty in Indonesia. Bulletin of Indonesian Economic Studies, 56(2), pp. 175–192. https://doi.org/10.1080/00074918.2020.1779390', 'label': [[0, 13, 'PERSON'], [15, 28, 'PERSON'], [32, 46, 'PERSON'], [47, 51, 'YEAR'], [53, 111, 'WORK'], [112, 151, 'JOURNAL'], [173, 218, 'DOI']], 'Comments': []}, {'id': 97, 'text': 'UNICEF, UNDP, Prospera, & SMERU. 2021. Analysis of the Social and Economic Impacts of COVID-19 on Households and Strategic Policy Recommendations for Indonesia. United Nations Children Fund, Jakarta.', 'label': [[0, 6, 'ORG'], [8, 12, 'ORG'], [14, 22, 'ORG'], [26, 31, 'ORG'], [33, 37, 'YEAR'], [39, 159, 'WORK'], [160, 198, 'JOURNAL']], 'Comments': []}, {'id': 98, 'text': 'Ahmed, F., Ahmed, N. E., Pissarides, C., & Stiglitz, J. (2020). Why inequality could spread COVID-19. The Lancet Public Health, 5(5), e240. https://www.thelancet.com/pdfs/journals/lanpub/PIIS2468-2667(20)30085-2.pdf', 'label': [[0, 9, 'PERSON'], [11, 23, 'PERSON'], [25, 39, 'PERSON'], [43, 55, 'PERSON'], [57, 61, 'YEAR'], [64, 101, 'WORK'], [102, 127, 'JOURNAL'], [140, 215, 'DOI']], 'Comments': []}, {'id': 99, 'text': 'Alon, T., Doepke, M., Olmstead-Rumsey, J., & Tertilt, M. (2020). The impact of COVID-19 on gender equality (No. w26947). National Bureau of economic research.', 'label': [[0, 8, 'PERSON'], [10, 20, 'PERSON'], [22, 41, 'PERSON'], [45, 56, 'PERSON'], [58, 62, 'YEAR'], [65, 106, 'WORK'], [121, 157, 'JOURNAL']], 'Comments': []}, {'id': 100, 'text': 'Arandarenko, M. (2011). Tržište rada u Srbiji: trendovi, institucije, politike. Belgrade: Faculty of Economics, University of Belgrade.', 'label': [[0, 15, 'PERSON'], [17, 21, 'YEAR'], [24, 78, 'WORK'], [80, 134, 'JOURNAL']], 'Comments': []}, {'id': 101, 'text': 'Balgova, M. et al. (2021), “Job Search during a Pandemic Recession: Survey Evidence from the Netherlands”, IZA Discussion Papers, Vol. IZA DP No. 14180.', 'label': [[0, 10, 'PERSON'], [20, 24, 'YEAR'], [28, 104, 'WORK'], [107, 128, 'JOURNAL']], 'Comments': []}, {'id': 102, 'text': 'Béland, L.-P., Brodeur, A., & Wright, T. (2020). The short-term economic consequences of COVID-19: exposure to disease, remote work and government response. IZA Discussion Paper Series (13159).', 'label': [[0, 12, 'PERSON'], [15, 26, 'PERSON'], [30, 40, 'PERSON'], [42, 46, 'YEAR'], [49, 156, 'WORK'], [157, 184, 'JOURNAL']], 'Comments': []}, {'id': 103, 'text': 'Bell, B., & Smith, J. M. (2002). On gross worker flows in the United Kingdom: evidence from the Labour Force Survey.', 'label': [[0, 8, 'PERSON'], [12, 24, 'PERSON'], [26, 30, 'YEAR'], [33, 115, 'WORK']], 'Comments': []}, {'id': 104, 'text': 'Blanchard, O. J., Diamond, P., Hall, R. E., & Murphy, K. (1990). The cyclical behavior of the gross flows of US workers. Brookings papers on economic activity, 1990(2), 85-155.', 'label': [[0, 16, 'PERSON'], [18, 29, 'PERSON'], [31, 42, 'PERSON'], [46, 56, 'PERSON'], [58, 62, 'YEAR'], [65, 120, 'WORK'], [121, 159, 'JOURNAL']], 'Comments': []}, {'id': 105, 'text': 'Brodeur, A., Gray, D., Islam, A., & Bhuiyan, S. (2021). A literature review of the economics of COVID‐19. Journal of Economic Surveys, 35(4), 1007-1044.', 'label': [[0, 11, 'PERSON'], [13, 21, 'PERSON'], [23, 32, 'PERSON'], [36, 47, 'PERSON'], [49, 53, 'YEAR'], [56, 105, 'WORK'], [106, 134, 'JOURNAL']], 'Comments': []}, {'id': 106, 'text': 'Brooks, M. M., Mueller, J. T., & Thiede, B. C. (2021). Rural-urban differences in the laborforce impacts of COVID-19 in the United States. Socius, 7, 23780231211022094.', 'label': [[0, 13, 'PERSON'], [15, 29, 'PERSON'], [33, 46, 'PERSON'], [48, 52, 'YEAR'], [55, 138, 'WORK'], [139, 146, 'JOURNAL']], 'Comments': []}, {'id': 107, 'text': 'Canton, E., Colasanti, F., Durán, J., Garrone, M., Hobza, A., Simons, W., & Vandeplas, A. (2021). The Sectoral Impact of the COVID-19 Crisis. An Unprecedented and Atypical Crisis (No. 069). Directorate General Economic and Financial Affairs (DG ECFIN), European Commission.', 'label': [[0, 10, 'PERSON'], [12, 25, 'PERSON'], [27, 36, 'PERSON'], [38, 49, 'PERSON'], [51, 60, 'PERSON'], [62, 72, 'PERSON'], [76, 89, 'PERSON'], [91, 95, 'YEAR'], [98, 141, 'WORK'], [242, 250, 'ORG']], 'Comments': []}, {'id': 108, 'text': 'Casarico, A., & Lattanzio, S. (2020). The heterogeneous effects of Covid-19 on labour', 'label': [[0, 12, 'PERSON'], [16, 29, 'PERSON'], [31, 35, 'YEAR'], [38, 85, 'WORK']], 'Comments': []}, {'id': 110, 'text': 'Cowan, B. W. (2020). Short-run effects of COVID-19 on US worker transitions (No. w27315). National Bureau of Economic Research.', 'label': [[0, 12, 'PERSON'], [14, 18, 'YEAR'], [21, 75, 'WORK'], [90, 127, 'JOURNAL']], 'Comments': []}, {'id': 112, 'text': 'Eurofound (2021). Impact of COVID-19 on young people in the EU, Publications Office of the European Union, Luxembourg.', 'label': [[0, 10, 'ORG'], [11, 15, 'YEAR'], [18, 62, 'WORK'], [64, 105, 'JOURNAL']], 'Comments': []}, {'id': 113, 'text': 'Eurostat (2022a). Annual national accounts (nama10), indicator: GDP and main components (output, expenditure and income) (nama_10_gdp). Retrieved from https://ec.europa.eu/eurostat/databrowser/view/namq_10_gdp/default/table?lang=en.', 'label': [[0, 9, 'ORG'], [10, 14, 'YEAR'], [18, 120, 'WORK'], [151, 231, 'DOI']], 'Comments': []}, {'id': 114, 'text': 'Eurostat (2022b). Unemployment - LFS adjusted series (une), indicator: Unemployment by sex and age – monthly data (une_rt_m). Retrieved from https://ec.europa.eu/eurostat/databrowser/view/une_rt_m/default/table?lang=en', 'label': [[0, 9, 'ORG'], [10, 14, 'YEAR'], [18, 113, 'WORK'], [141, 218, 'DOI']], 'Comments': []}, {'id': 115, 'text': 'Del Boca, D., Oggero, N., Profeta, P., & Rossi, M. (2020). Women’s and men’s work, housework and childcare, before and during COVID-19. Review of Economics of the Household, 18(4), 1001-1017.', 'label': [[0, 12, 'PERSON'], [14, 24, 'PERSON'], [26, 37, 'PERSON'], [41, 50, 'PERSON'], [52, 56, 'YEAR'], [59, 135, 'WORK'], [136, 173, 'JOURNAL']], 'Comments': []}, {'id': 116, 'text': 'Farré, L., Fawaz, Y., González, L., & Graves, J. (2020). How the COVID-19 lockdown affected gender inequality in paid and unpaid work in Spain.', 'label': [[0, 9, 'PERSON'], [11, 20, 'PERSON'], [22, 34, 'PERSON'], [38, 48, 'PERSON'], [50, 54, 'YEAR'], [57, 143, 'WORK']], 'Comments': []}, {'id': 117, 'text': 'Forsythe, E., Kahn, L. B., Lange, F., & Wiczer, D. (2020b). Labor demand in the time of COVID-19: Evidence from vacancy postings and UI claims. Journal of public economics, 189, 104238.', 'label': [[0, 12, 'PERSON'], [14, 25, 'PERSON'], [27, 36, 'PERSON'], [40, 50, 'PERSON'], [52, 56, 'YEAR'], [60, 143, 'WORK'], [144, 172, 'JOURNAL']], 'Comments': []}, {'id': 118, 'text': 'Forsythe, E., Kahn, L. B., Lange, F., & Wiczer, D. G. (2020a). Searching, recalls, and tightness: An interim report on the covid labor market (No. w28083). National Bureau of Economic Research.', 'label': [[0, 12, 'PERSON'], [14, 25, 'PERSON'], [27, 36, 'PERSON'], [40, 53, 'PERSON'], [55, 59, 'YEAR'], [63, 141, 'WORK'], [155, 192, 'JOURNAL']], 'Comments': []}, {'id': 119, 'text': 'Genda, Y., Kondo, A., & Ohta, S. (2010). Long-term effects of a recession at labour market entry in Japan and the United States. Journal of Human resources, 45(1), 157-196.', 'label': [[0, 9, 'PERSON'], [11, 20, 'PERSON'], [24, 32, 'PERSON'], [34, 38, 'YEAR'], [41, 128, 'WORK'], [129, 156, 'ORG']], 'Comments': []}, {'id': 120, 'text': 'Heckman, J. J. (1979). Sample selection bias as a specification error. Econometrica: Journal of the econometric society, 153-161.', 'label': [[0, 14, 'PERSON'], [16, 20, 'YEAR'], [23, 70, 'WORK'], [71, 120, 'JOURNAL']], 'Comments': []}, {'id': 121, 'text': 'Hensvik, L., Le Barbanchon, T., & Rathelot, R. (2021). Job search during the COVID-19 crisis. Journal of Public Economics, 194, 104349.', 'label': [[0, 11, 'PERSON'], [13, 30, 'PERSON'], [34, 46, 'PERSON'], [48, 52, 'YEAR'], [55, 93, 'WORK'], [94, 122, 'JOURNAL']], 'Comments': []}, {'id': 122, 'text': 'Holgersen, H., Jia, Z., & Svenkerud, S. (2020). Labor demand during the covid-19 crisis in norway: Evidence from vacancy posting data. Available at SSRN 3663479.', 'label': [[0, 13, 'PERSON'], [15, 22, 'PERSON'], [26, 39, 'PERSON'], [41, 45, 'YEAR'], [48, 134, 'WORK']], 'Comments': []}, {'id': 123, 'text': 'Institute of Economic Sciences (IES). (2022) Effects of the COVID-19 pandemic on the labour market and the position of vulnerable groups in Serbia, policy report. Available at https://www.ien.bg.ac.rs/data/images/proj_ineqrs/report_final.pdf', 'label': [[0, 30, 'ORG'], [32, 35, 'ORG'], [39, 43, 'YEAR'], [45, 162, 'WORK'], [176, 241, 'DOI']], 'Comments': []}, {'id': 124, 'text': 'International Labour Organization. (2016). Non-standard employment around the world: Understanding challenges, shaping prospects.', 'label': [[0, 34, 'ORG'], [36, 40, 'YEAR'], [43, 129, 'WORK']], 'Comments': []}, {'id': 125, 'text': 'Kahn, L. B. (2010). The long-term labour market consequences of graduating from college in a bad economy. Labour economics, 17(2), 303-316.', 'label': [[0, 11, 'PERSON'], [13, 17, 'YEAR'], [20, 105, 'WORK'], [106, 123, 'JOURNAL']], 'Comments': []}, {'id': 126, 'text': 'Kochhar, R. (2021). The self-employed are back at work in pre-COVID-19 numbers, but their businesses have smaller payrolls. Pew Research Centre. https://www.pewresearch.org/fact-tank/2021/11/03/the-self-employed-are-back-at-work-inpre-covid-19-numbers-but-their-businesses-have-smaller-payrolls/ (accessed on 11/11/2021).', 'label': [[0, 11, 'PERSON'], [13, 17, 'YEAR'], [20, 123, 'WORK'], [124, 144, 'JOURNAL'], [145, 295, 'DOI']], 'Comments': []}, {'id': 127, 'text': 'Koczan, Z. (2022). Not all in this together? Early estimates of the unequal labour market effects of Covid-19. Applied Economics, 1-14.', 'label': [[0, 10, 'PERSON'], [12, 16, 'YEAR'], [19, 110, 'WORK'], [111, 129, 'JOURNAL']], 'Comments': []}, {'id': 128, 'text': 'Komin, W., Thepparp, R., Subsing, B., & Engstrom, D. (2021). Covid-19 and its impact on informal sector workers: a case study of Thailand. Asia Pacific Journal of Social Work and Development, 31(1-2), 80-88.', 'label': [[0, 9, 'PERSON'], [11, 23, 'PERSON'], [25, 36, 'PERSON'], [40, 52, 'PERSON'], [54, 58, 'YEAR'], [61, 138, 'WORK'], [139, 191, 'JOURNAL']], 'Comments': []}, {'id': 129, 'text': 'Lagakos, T.A.M.K.D. and VanVuren, M. (2020). How Should Policy Responses to the COVID-19 Pandemic Differ in the Developing World?, NBER Working paper 27273.', 'label': [[0, 18, 'PERSON'], [24, 36, 'PERSON'], [38, 42, 'YEAR'], [45, 130, 'WORK'], [131, 135, 'JOURNAL']], 'Comments': []}, {'id': 130, 'text': 'Lemieux, T., Milligan, K., Schirle, T., & Skuterud, M. (2020). Initial impacts of the COVID19 pandemic on the Canadian labour market. Canadian Public Policy, 46(S1), S55-S65.', 'label': [[0, 11, 'PERSON'], [13, 25, 'PERSON'], [27, 38, 'PERSON'], [42, 54, 'PERSON'], [56, 60, 'YEAR'], [63, 133, 'WORK'], [134, 157, 'JOURNAL']], 'Comments': []}, {'id': 131, 'text': 'Montenovo, L., Jiang, X., Rojas, F. L., Schmutte, I. M., Simon, K. I., Weinberg, B. A., & Wing, C. (2020). Determinants of disparities in COVID-19 job losses (No. w27132).', 'label': [[0, 13, 'PERSON'], [15, 24, 'PERSON'], [26, 38, 'PERSON'], [40, 55, 'PERSON'], [57, 69, 'PERSON'], [71, 86, 'PERSON'], [90, 98, 'PERSON'], [100, 104, 'YEAR'], [107, 157, 'WORK']], 'Comments': []}, {'id': 132, 'text': 'National Bureau of Economic Research. OECD (2020), “Job retention schemes during the COVID-19 lockdown and beyond”, OECD Policy Responses to Coronavirus (COVID-19), OECD Publishing, Paris, https://dx.doi.org/10.1787/0853ba1d-en.', 'label': [[0, 37, 'ORG'], [38, 43, 'ORG'], [44, 48, 'YEAR'], [52, 113, 'WORK'], [116, 152, 'ORG'], [165, 181, 'JOURNAL'], [189, 227, 'DOI']], 'Comments': []}, {'id': 133, 'text': 'OECD (2021), OECD Employment Outlook 2021: Navigating the COVID-19 Crisis and Recovery, OECD Publishing, Paris, https://doi.org/10.1787/5a700c4b-en.', 'label': [[0, 5, 'ORG'], [6, 10, 'YEAR'], [13, 87, 'WORK'], [88, 103, 'JOURNAL'], [112, 147, 'DOI']], 'Comments': []}, {'id': 134, 'text': 'OECD/ILO (2019), Tackling Vulnerability in the Informal Economy, Development Centre Studies, OECD Publishing, Paris, https://doi.org/10.1787/939b7bcd-en.', 'label': [[0, 4, 'ORG'], [5, 9, 'ORG'], [10, 14, 'YEAR'], [17, 64, 'WORK'], [93, 108, 'JOURNAL'], [117, 152, 'DOI']], 'Comments': []}, {'id': 135, 'text': 'Oreopoulos, P., Von Wachter, T., & Heisz, A. (2012). The short-and long-term career effects of graduating in a recession. American Economic Journal: Applied Economics, 4(1), 1-29.', 'label': [[0, 14, 'PERSON'], [16, 31, 'PERSON'], [35, 44, 'PERSON'], [46, 50, 'YEAR'], [53, 121, 'WORK'], [122, 166, 'JOURNAL']], 'Comments': []}, {'id': 136, 'text': 'Peck, J., & Theodore, N. (2007). Flexible recession: the temporary staffing industry and mediated work in the United States. Cambridge Journal of Economics, 31(2), 171-192.', 'label': [[0, 8, 'PERSON'], [12, 24, 'PERSON'], [26, 30, 'YEAR'], [33, 124, 'WORK'], [125, 155, 'JOURNAL']], 'Comments': []}, {'id': 137, 'text': 'Rawal, V., Kumar, M., Verma, A., & Pais, J. (2020). COVID-19 lockdown: Impact on agriculture and rural economy. Society for Social and Economic Research, 13(2), 34.', 'label': [[0, 9, 'PERSON'], [11, 20, 'PERSON'], [22, 31, 'PERSON'], [35, 43, 'PERSON'], [45, 49, 'YEAR'], [52, 111, 'WORK'], [112, 153, 'JOURNAL']], 'Comments': []}, {'id': 138, 'text': 'Soares, S., & Berg, J. (2021). Transitions in the labour market under COVID‐19: Who endures, who doesn’t and the implications for inequality. International Labour Review.', 'label': [[0, 10, 'PERSON'], [14, 22, 'PERSON'], [24, 28, 'YEAR'], [31, 141, 'WORK'], [142, 169, 'JOURNAL']], 'Comments': []}, {'id': 139, 'text': 'Statistical Office of the Republic of Serbia (2019). Regions in the Republic of Serbia.', 'label': [[0, 44, 'ORG'], [46, 50, 'YEAR'], [53, 86, 'WORK'], [88, 132, 'ORG'], [134, 138, 'ORG'], [142, 146, 'YEAR'], [149, 153, 'YEAR'], [154, 200, 'WORK']], 'Comments': []}, {'id': 140, 'text': 'Von Gaudecker, H. M., Holler, R., Janys, L., Siflinger, B., & Zimpelmann, C. (2020). Labour supply in the early stages of the CoViD-19 Pandemic: Empirical Evidence on hours, home office, and expectations.', 'label': [[0, 20, 'PERSON'], [22, 32, 'PERSON'], [34, 43, 'PERSON'], [45, 58, 'PERSON'], [62, 76, 'PERSON'], [78, 82, 'YEAR'], [85, 204, 'WORK']], 'Comments': []}, {'id': 141, 'text': 'White, H. L., Jr. 1980. A heteroskedasticity-consistent covariance matrix estimator and a direct test for heteroskedasticity. Econometrica 48: 817–838.', 'label': [[0, 12, 'PERSON'], [18, 22, 'YEAR'], [24, 125, 'WORK'], [126, 139, 'JOURNAL']], 'Comments': []}, {'id': 142, 'text': 'White, H. L., Jr.. 1982. Maximum likelihood estimation of misspecified models. Econometrica 50: 1–25.', 'label': [[0, 12, 'PERSON'], [19, 23, 'PERSON'], [25, 78, 'WORK'], [79, 92, 'JOURNAL']], 'Comments': []}, {'id': 143, 'text': 'Carlo Altavilla, Fabio Canova, and Matteo Ciccarelli. Mending the broken link: heterogeneous bank lending and unconventional monetary policy. Journal of Monetary Economics, 110:81–98, 2020.', 'label': [[0, 15, 'PERSON'], [17, 29, 'PERSON'], [35, 52, 'PERSON'], [54, 141, 'WORK'], [142, 172, 'JOURNAL'], [184, 188, 'YEAR']], 'Comments': []}, {'id': 144, 'text': 'Stephan Bonhomme and Elena Manresa. Grouped patterns of heterogeneity in panel data. Econometrica, 83(3):1147–1184, 2015.', 'label': [[0, 16, 'PERSON'], [21, 35, 'PERSON'], [36, 84, 'WORK'], [85, 97, 'JOURNAL'], [116, 120, 'YEAR']], 'Comments': []}, {'id': 145, 'text': 'Markus Brueckner and Anita Tuladhar. Local government spending multipliers and financial distress: evidence from japanese prefectures. Economic Journal, 124:1279–1316, 2014.', 'label': [[0, 16, 'PERSON'], [21, 35, 'PERSON'], [37, 134, 'WORK'], [135, 151, 'JOURNAL'], [168, 172, 'YEAR']], 'Comments': []}, {'id': 146, 'text': 'Fabio Canova. Testing for converge clubs in income per-capita: a predictive density approch. International Economic Review, 45:49–77, 2004.', 'label': [[0, 12, 'PERSON'], [14, 92, 'WORK'], [93, 123, 'JOURNAL'], [134, 138, 'YEAR']], 'Comments': []}, {'id': 147, 'text': 'Fabio Canova. Methods for Applied Macroeconomic Research. Princeton University Press, 2007.', 'label': [[0, 12, 'PERSON'], [13, 56, 'WORK'], [58, 85, 'JOURNAL'], [86, 90, 'YEAR']], 'Comments': []}, {'id': 148, 'text': 'Fabio Canova and Christian Matthes. A composite likelihood approach for dynamic structural models. Economic Journal, 131:2447–2477, 2021.', 'label': [[0, 12, 'PERSON'], [17, 34, 'PERSON'], [36, 98, 'WORK'], [99, 116, 'JOURNAL'], [132, 136, 'YEAR']], 'Comments': []}, {'id': 149, 'text': 'Fabio Canova and Paraskevi Pappa. Price differentials in monetary unions: the role of fiscal shocks. Economic Journal, 117:717–739, 2007.', 'label': [[0, 12, 'PERSON'], [17, 32, 'PERSON'], [34, 100, 'WORK'], [101, 118, 'JOURNAL'], [132, 136, 'YEAR']], 'Comments': []}, {'id': 150, 'text': 'Luisa Carpinelli and Matteo Crosignani. The design and the transmission of central bank liquidity provision. Journal of Financial Economics, 141(1):27–47, 2021.', 'label': [[0, 16, 'PERSON'], [21, 38, 'PERSON'], [40, 108, 'WORK'], [109, 140, 'JOURNAL'], [155, 159, 'YEAR']], 'Comments': []}, {'id': 151, 'text': 'Indraneel Chakraborty, Itay Goldstein, and Andrew MacKinlay. Monetary stimolous and bank lending. Journal of Financial Economics, 136(1):189–218, 2020.', 'label': [[0, 21, 'PERSON'], [23, 37, 'PERSON'], [43, 59, 'PERSON'], [61, 97, 'WORK'], [98, 129, 'JOURNAL'], [146, 150, 'YEAR']], 'Comments': []}, {'id': 152, 'text': 'Gabriel Chodorow-Reich. The effects of unconventional monetary policy on financial institutions. Brookings Papers on Economic Activity, 115:156–227, 2014.', 'label': [[0, 22, 'PERSON'], [24, 96, 'WORK'], [97, 135, 'JOURNAL'], [149, 153, 'YEAR']], 'Comments': []}, {'id': 153, 'text': 'Gabriel Chodorow-Reich. Geographic cross-sectional fiscal spending multipliers: What have we learned? American Economic Journal: Economic Policy, Spring:1–34, 2019.', 'label': [[0, 22, 'PERSON'], [24, 101, 'WORK'], [102, 145, 'JOURNAL'], [159, 163, 'YEAR']], 'Comments': []}, {'id': 154, 'text': 'Chiara Criscuolo, Ralf Martin, Henry Overman, and John van Reenen. Some causal effects of industrial policy. American Economic Review, 109(1):48–55, 2019.', 'label': [[0, 16, 'PERSON'], [18, 29, 'PERSON'], [31, 44, 'PERSON'], [50, 65, 'PERSON'], [67, 108, 'WORK'], [109, 134, 'JOURNAL'], [149, 153, 'YEAR']], 'Comments': []}, {'id': 155, 'text': 'Bill Dupour and Rodrigo Guerrero. Local and aggregate fiscal policy multipliers. Journal of Monetary Economics, 92:16–30, 2017.', 'label': [[0, 11, 'PERSON'], [16, 32, 'PERSON'], [34, 80, 'WORK'], [81, 111, 'JOURNAL'], [122, 126, 'YEAR']], 'Comments': []}, {'id': 156, 'text': 'Mark Gertler and Peter Karadi. Monetary policy surprises, credit costs, and economic activity. American Economic Journal: Macroeconomics, 7(1):44–76, 2015.', 'label': [[0, 12, 'PERSON'], [17, 29, 'PERSON'], [30, 94, 'WORK'], [95, 137, 'JOURNAL'], [150, 154, 'YEAR']], 'Comments': []}, {'id': 157, 'text': 'Adam Guren, Alisdair McKay, Emi Nakamura, and Jon Steinsson. What do we learn from cross-regional empirical estimates in macroeconomics? NBER macroeconomic annual, forthcoming, 2020.', 'label': [[0, 10, 'PERSON'], [12, 26, 'PERSON'], [28, 40, 'PERSON'], [46, 59, 'PERSON'], [61, 136, 'WORK'], [137, 162, 'JOURNAL'], [177, 181, 'YEAR']], 'Comments': []}, {'id': 158, 'text': 'Chen Hsiao, Qi Li, Zhonwhen Liang, and Wei Xie. Panel data estimation for correlated random coefficients models. Econometrics, 7(7): http://dx.doi.org/10.3390/econometrics7010007, 2019.', 'label': [[0, 10, 'PERSON'], [12, 17, 'PERSON'], [19, 33, 'PERSON'], [39, 46, 'PERSON'], [48, 112, 'WORK'], [113, 126, 'JOURNAL'], [133, 178, 'DOI'], [180, 184, 'YEAR']], 'Comments': []}, {'id': 159, 'text': 'Ethan Ilzetzki. The puzzling change in the international transmission of monetary policy shocks. Technical report, CEPR discussion paper 15740, 2020.', 'label': [[0, 14, 'PERSON'], [16, 96, 'WORK'], [97, 136, 'JOURNAL'], [144, 148, 'YEAR']], 'Comments': []}, {'id': 160, 'text': 'Jean Imbs, Haroon Mumtaz, Morten Ravn, and Helen Rey. Ppp strikes back: Aggregation and the real exchange rate. Quarterly Journal of Economics, 120(1):1–43, 2005.', 'label': [[0, 9, 'PERSON'], [11, 24, 'PERSON'], [26, 37, 'PERSON'], [43, 52, 'PERSON'], [54, 111, 'WORK'], [112, 143, 'JOURNAL'], [157, 161, 'YEAR']], 'Comments': []}, {'id': 162, 'text': 'Soyoung Kim and Nouriel Roubini. Exchange rate anomalies in industrialized countries: A solution with a structural var. Journal of Monetary Economics, 45:561–583, 2000.', 'label': [[0, 11, 'PERSON'], [16, 31, 'PERSON'], [33, 119, 'WORK'], [120, 149, 'JOURNAL'], [163, 167, 'YEAR']], 'Comments': []}, {'id': 163, 'text': 'Sylvain Leduc and Daniel Wilson. Are state governments raodblocks to federal stimulus? evidence on the flypaper effect of highway grants in 2009 recovery act. American Economic Journals: Economic Policy, 9(2):253–292, 2017.', 'label': [[0, 13, 'PERSON'], [18, 31, 'PERSON'], [33, 158, 'WORK'], [159, 203, 'JOURNAL'], [218, 222, 'YEAR']], 'Comments': []}, {'id': 164, 'text': 'Laura Liu, Roger Moon, and Frank Schorfheide. Forecasting with dynamic panel models. Econometrica, 88(1):171–201, 2020.', 'label': [[0, 9, 'PERSON'], [11, 21, 'PERSON'], [27, 44, 'PERSON'], [46, 84, 'WORK'], [85, 97, 'JOURNAL'], [114, 118, 'YEAR']], 'Comments': []}, {'id': 165, 'text': 'Michael McLeay and Silvana Terneyro. Optimal inflation and the identification of the phillips curve. NBER macroeconomic annual, 34(1):199–255, 2020.', 'label': [[0, 14, 'PERSON'], [19, 35, 'PERSON'], [37, 100, 'WORK'], [101, 126, 'JOURNAL'], [143, 147, 'YEAR']], 'Comments': []}, {'id': 166, 'text': 'Atif Mian and Amir Sufi. What explains the 2007-2009 drop in employment. Econometrica, 82(6):2198–2223, 2014.', 'label': [[0, 9, 'PERSON'], [14, 23, 'PERSON'], [25, 72, 'WORK'], [73, 85, 'JOURNAL'], [104, 108, 'YEAR']], 'Comments': []}, {'id': 167, 'text': 'Enrico Moretti. Local multipliers. American Economic Review, Papers and Proceedings, 100:373–377, 2010.', 'label': [[0, 14, 'PERSON'], [16, 33, 'WORK'], [35, 83, 'JOURNAL'], [98, 102, 'YEAR']], 'Comments': []}, {'id': 168, 'text': 'Emi Nakamura and Jon Steinnson. Fiscal stimulus in a monetary union: Evidence from us regions. American Economic Review, 103(4):753–792, 2014.', 'label': [[0, 12, 'PERSON'], [17, 30, 'PERSON'], [32, 94, 'WORK'], [95, 119, 'JOURNAL'], [137, 141, 'YEAR']], 'Comments': []}, {'id': 169, 'text': 'Hashem Pesaran. Estimation and inference in larger heterogeneous panels with multifactor error structure. Econometrica, 74(4):967–1012, 2006.', 'label': [[0, 14, 'PERSON'], [16, 105, 'WORK'], [106, 118, 'JOURNAL'], [136, 140, 'YEAR']], 'Comments': []}, {'id': 171, 'text': 'Valerie Ramey. Ten years after the financial crisis: What have we learned from the renaissance in fiscal research. Journal of Economic Perspectives, 33:89–114, 2019.', 'label': [[0, 13, 'PERSON'], [15, 114, 'WORK'], [115, 147, 'JOURNAL'], [160, 164, 'YEAR']], 'Comments': []}, {'id': 172, 'text': 'Valerie Ramey. Discussion of ‘what do we learn from cross-sectional empirical estimates in macroeconomics’ by adam guren, alisdair mckay, emi nakamura, jon steinsson. Technical report, University of California San Diego, 2020.', 'label': [[0, 13, 'PERSON'], [15, 166, 'WORK'], [167, 219, 'JOURNAL'], [221, 225, 'YEAR']], 'Comments': []}, {'id': 173, 'text': 'Valerie Ramey and Sarah Zubairy. Goverment spending multipliers in good times and in bad: Evidence from us historical data. Journal of Political Economy, 126:850–901, 2018.', 'label': [[0, 13, 'PERSON'], [18, 31, 'PERSON'], [33, 123, 'WORK'], [124, 152, 'JOURNAL'], [167, 171, 'YEAR']], 'Comments': []}, {'id': 174, 'text': 'James Stock and Mark Watson. Identification and estimation of dynamic causal effects in macroeconomics using external instruments. Economic Journal, 128:917–948, 2018.', 'label': [[0, 11, 'PERSON'], [16, 27, 'PERSON'], [29, 130, 'WORK'], [131, 147, 'JOURNAL'], [162, 166, 'YEAR']], 'Comments': []}, {'id': 175, 'text': 'Liyang Sun and Sarah Abraham. Estimating dynamic treatment effects in event studies with heterogeneous treatment effects. Journal of Econometrics, 225(2):175–199, 2021.', 'label': [[0, 10, 'PERSON'], [15, 28, 'PERSON'], [30, 121, 'WORK'], [122, 145, 'JOURNAL'], [163, 167, 'YEAR']], 'Comments': []}, {'id': 176, 'text': 'Acharya, S. and Dogra, K., 2020. Understanding HANK: Insights from a PRANK. Econometrica, 88(3), pp.1113-1158.', 'label': [[0, 11, 'PERSON'], [16, 25, 'PERSON'], [27, 31, 'YEAR'], [33, 75, 'WORK'], [76, 88, 'JOURNAL']], 'Comments': []}, {'id': 179, 'text': 'Bertola, G., Guiso, L. and Pistaferri, L., 2005. Uncertainty and consumer durables adjustment. The Review of Economic Studies, 72(4), pp.973-1007.', 'label': [[0, 11, 'PERSON'], [13, 22, 'PERSON'], [27, 41, 'PERSON'], [43, 47, 'YEAR'], [49, 94, 'WORK'], [95, 125, 'JOURNAL']], 'Comments': []}, {'id': 180, 'text': 'Bertrand, AurÃlie & Christian M. Hafner, 2011. \"On heterogeneous latent class models with applications to the analysis of rating scores,\" SFB 649 Discussion Papers SFB649DP2011-062, Sonderforschungsbereich 649, Humboldt University, Berlin, Germany.', 'label': [[0, 17, 'PERSON'], [20, 39, 'PERSON'], [41, 45, 'YEAR'], [47, 137, 'WORK'], [138, 238, 'JOURNAL']], 'Comments': []}, {'id': 181, 'text': 'Biemer, P.P. and Wiesen, C., 2002. Measurement error evaluation of self‐reported druguse: a latent class analysis of the US National Household Survey on Drug Abuse. Journal of the Royal Statistical Society: Series A (Statistics in Society), 165(1), pp.97-119.', 'label': [[0, 12, 'PERSON'], [17, 27, 'PERSON'], [29, 33, 'YEAR'], [35, 164, 'WORK'], [165, 239, 'JOURNAL']], 'Comments': []}, {'id': 182, 'text': 'Bucholz, K.K., Hesselbrock, V.M., Heath, A.C., Kramer, J.R. and Schuckit, M.A., 2000. A latent class analysis of antisocial personality disorder symptom data from a multi‐centre family study of alcoholism. Addiction, 95(4), pp.553-567.', 'label': [[0, 13, 'PERSON'], [15, 32, 'PERSON'], [34, 45, 'PERSON'], [47, 59, 'PERSON'], [64, 78, 'PERSON'], [80, 84, 'YEAR'], [86, 205, 'WORK'], [206, 215, 'JOURNAL']], 'Comments': []}, {'id': 183, 'text': 'Carroll, C.D. and Samwick, A.A., 1998. How important is precautionary saving?. Review of Economics and statistics, 80(3), pp.410-419.', 'label': [[0, 13, 'PERSON'], [18, 31, 'PERSON'], [33, 37, 'YEAR'], [39, 78, 'WORK'], [79, 113, 'JOURNAL']], 'Comments': []}, {'id': 184, 'text': 'Carroll, R.J., Ruppert, D., Stefanski, L.A. and Crainiceanu, C.M., 2006. Measurement error in nonlinear models: a modern perspective. Chapman and Hall/CRC.', 'label': [[0, 13, 'PERSON'], [15, 26, 'PERSON'], [28, 43, 'PERSON'], [48, 65, 'PERSON'], [67, 71, 'YEAR'], [73, 133, 'WORK'], [134, 154, 'JOURNAL']], 'Comments': []}, {'id': 185, 'text': 'Celeux, G. and Soromenho, G., 1996. An entropy criterion for assessing the number of clusters in a mixture model. Journal of classification, 13(2), pp.195-212.', 'label': [[0, 10, 'PERSON'], [15, 28, 'PERSON'], [30, 34, 'YEAR'], [36, 113, 'WORK'], [114, 139, 'JOURNAL']], 'Comments': []}, {'id': 186, 'text': 'Chhatwani, M. and Mishra, S.K., 2021. Financial fragility and financial optimism linkage during COVID-19: Does financial literacy matter?. Journal of Behavioral and Experimental Economics, 94, p.101751.', 'label': [[0, 13, 'PERSON'], [18, 30, 'PERSON'], [32, 36, 'YEAR'], [38, 138, 'WORK'], [139, 187, 'JOURNAL']], 'Comments': []}, {'id': 187, 'text': 'Clogg, C.C., 1981. New developments in latent structure analysis. Factor analysis and measurement in sociological research.', 'label': [[0, 11, 'PERSON'], [13, 17, 'YEAR'], [19, 65, 'WORK'], [66, 123, 'JOURNAL']], 'Comments': []}, {'id': 188, 'text': 'Clogg, C.C., 1995. Latent class models. In Handbook of statistical modeling for the social and behavioral sciences (pp. 311-359). Springer, Boston, MA.', 'label': [[0, 11, 'PERSON'], [13, 17, 'YEAR'], [19, 39, 'WORK'], [40, 114, 'JOURNAL']], 'Comments': []}, {'id': 189, 'text': \"D'Amico, S. and King, T.B., 2015. What does anticipated monetary policy do?.\", 'label': [[0, 11, 'PERSON'], [16, 26, 'PERSON'], [28, 32, 'YEAR'], [34, 76, 'WORK']], 'Comments': []}, {'id': 190, 'text': 'Das, A., Lahiri, K. and Zhao, Y., 2019. Inflation expectations in India: Learning from household tendency surveys. International Journal of Forecasting, 35(3), pp.980-993.', 'label': [[0, 7, 'PERSON'], [9, 19, 'PERSON'], [24, 32, 'PERSON'], [34, 38, 'YEAR'], [40, 114, 'WORK'], [115, 151, 'JOURNAL']], 'Comments': []}, {'id': 191, 'text': 'Dominitz, J. and Manski, C.F., 1997. Using expectations data to study subjective income expectations. Journal of the American Statistical Association, 92(439), pp.855-867.', 'label': [[0, 12, 'PERSON'], [17, 29, 'PERSON'], [31, 35, 'YEAR'], [37, 101, 'WORK'], [102, 149, 'JOURNAL']], 'Comments': []}, {'id': 192, 'text': 'Dominitz, J. and Manski, C.F., 2007. Expected equity returns and portfolio choice: Evidence from the Health and Retirement Study. Journal of the European Economic Association, 5(2-3), pp.369-379.', 'label': [[0, 12, 'PERSON'], [17, 29, 'PERSON'], [31, 35, 'YEAR'], [37, 129, 'WORK'], [130, 174, 'JOURNAL']], 'Comments': []}, {'id': 193, 'text': 'Dow Jr, J.P., 2016. Demographic factors affecting macroeconomic expectations. Southwestern Economic Review, 43, pp.87-101.', 'label': [[0, 12, 'PERSON'], [14, 18, 'YEAR'], [20, 77, 'WORK'], [78, 106, 'JOURNAL']], 'Comments': []}, {'id': 194, 'text': \"Eberly, J.C., 1994. Adjustment of consumers' durables stocks: Evidence from automobile purchases. Journal of political Economy, 102(3), pp.403-436.\", 'label': [[0, 12, 'PERSON'], [14, 18, 'YEAR'], [20, 97, 'WORK'], [98, 126, 'JOURNAL']], 'Comments': []}, {'id': 195, 'text': 'Flavin, M., 1991. The joint consumption/asset demand decision: a case study in robust estimation.', 'label': [[0, 10, 'PERSON'], [12, 16, 'YEAR'], [18, 97, 'WORK']], 'Comments': []}, {'id': 196, 'text': 'Foote, C., Hurst, E. and Leahy, J., 2000. Testing the (S, s) Model. American Economic Review, 90(2), pp.116-119.', 'label': [[0, 9, 'PERSON'], [11, 20, 'PERSON'], [25, 34, 'PERSON'], [36, 40, 'YEAR'], [42, 67, 'WORK'], [68, 92, 'JOURNAL']], 'Comments': []}, {'id': 197, 'text': 'Gollier, C. and Pratt, J.W., 1996. Risk vulnerability and the tempering effect of background risk. Econometrica: Journal of the Econometric Society, pp.1109-1123.', 'label': [[0, 11, 'PERSON'], [16, 27, 'PERSON'], [29, 33, 'YEAR'], [35, 98, 'WORK'], [99, 147, 'JOURNAL']], 'Comments': []}, {'id': 198, 'text': 'Hagenaars, J.A., 1998. Categorical causal modeling: Latent class analysis and directed log-linear models with latent variables. Sociological Methods & Research, 26(4), pp.436-486.', 'label': [[0, 15, 'PERSON'], [17, 21, 'YEAR'], [23, 127, 'WORK'], [128, 159, 'JOURNAL']], 'Comments': []}, {'id': 199, 'text': 'Hess, S., 2014. Latent class structures: taste heterogeneity and beyond. In Handbook of choice modelling. Edward Elgar Publishing.', 'label': [[0, 8, 'PERSON'], [10, 14, 'YEAR'], [16, 105, 'WORK'], [106, 129, 'JOURNAL']], 'Comments': []}, {'id': 200, 'text': 'Hougaard, P. and Hougaard, P., 2000. Analysis of multivariate survival data (Vol. 564). New York: Springer.', 'label': [[0, 12, 'PERSON'], [17, 29, 'PERSON'], [31, 35, 'YEAR'], [37, 87, 'WORK'], [88, 106, 'JOURNAL']], 'Comments': []}, {'id': 201, 'text': 'Hui, S.L. and Walter, S.D., 1980. Estimating the error rates of diagnostic tests. Biometrics, pp.167-171.', 'label': [[0, 9, 'PERSON'], [14, 26, 'PERSON'], [28, 32, 'YEAR'], [34, 81, 'WORK'], [82, 92, 'JOURNAL']], 'Comments': []}, {'id': 202, 'text': 'Keane, M.P. and Runkle, D.E., 1990. Testing the rationality of price forecasts: New evidence from panel data. The American Economic Review, pp.714-735.', 'label': [[0, 11, 'PERSON'], [16, 28, 'PERSON'], [30, 34, 'YEAR'], [36, 109, 'WORK'], [110, 138, 'JOURNAL']], 'Comments': []}, {'id': 203, 'text': 'Keel, P.K., Fichter, M., Quadflieg, N., Bulik, C.M., Baxter, M.G., Thornton, L., Halmi, K.A., Kaplan, A.S., Strober, M., Woodside, D.B. and Crow, S.J., 2004. Application of a latent class analysis to empirically define EatingDisorder phenotypes. Archives of General Psychiatry, 61(2), pp.192-200.', 'label': [[0, 10, 'PERSON'], [12, 23, 'PERSON'], [25, 38, 'PERSON'], [40, 51, 'PERSON'], [53, 65, 'PERSON'], [67, 79, 'PERSON'], [81, 92, 'PERSON'], [94, 106, 'PERSON'], [108, 119, 'PERSON'], [121, 135, 'PERSON'], [140, 150, 'PERSON'], [152, 156, 'YEAR'], [158, 245, 'WORK'], [246, 276, 'JOURNAL']], 'Comments': []}, {'id': 204, 'text': 'Khamis, M., Prinz, D., Newhouse, D., Palacios-Lopez, A., Pape, U. and Weber, M., 2021. The Early Labor Market Impacts of COVID-19 in Developing Countries.', 'label': [[0, 10, 'PERSON'], [12, 21, 'PERSON'], [23, 35, 'PERSON'], [37, 55, 'PERSON'], [57, 65, 'PERSON'], [70, 79, 'PERSON'], [81, 85, 'YEAR'], [87, 154, 'WORK']], 'Comments': []}, {'id': 205, 'text': 'Kumar, S., Husain, Z. and Mukherjee, D., 2017. Assessing consistency of consumer confidence data using latent class analysis with time factor. Economic Analysis and Policy, 55, pp.35-46.', 'label': [[0, 9, 'PERSON'], [11, 21, 'PERSON'], [26, 39, 'PERSON'], [41, 45, 'YEAR'], [47, 142, 'WORK'], [143, 171, 'JOURNAL']], 'Comments': []}, {'id': 206, 'text': 'Lahiri, K. and Zhao, Y., 2016. Determinants of consumer sentiment over business cycles: Evidence from the US surveys of consumers. Journal of Business Cycle Research, 12(2), pp.187-215.', 'label': [[0, 10, 'PERSON'], [15, 23, 'PERSON'], [25, 29, 'YEAR'], [31, 130, 'WORK'], [131, 165, 'JOURNAL']], 'Comments': []}, {'id': 207, 'text': 'Lam, D. and Levison, D., 1991. Declining inequality in schooling in Brazil and its effects on inequality in earnings. Journal of Development Economics, 37(1-2), pp.199-225.', 'label': [[0, 7, 'PERSON'], [12, 23, 'PERSON'], [25, 29, 'YEAR'], [31, 117, 'WORK'], [118, 150, 'JOURNAL']], 'Comments': []}, {'id': 208, 'text': 'Lanza, S. T., Flaherty, B. P., & Collins, L. M. (2003). Latent class and latent transition analysis. In J. A. Schinka & W. F. Velicer (Eds.), Handbook of psychology: Research methods in psychology, Vol. 2, pp. 663–685). John Wiley & Sons Inc.', 'label': [[0, 12, 'PERSON'], [14, 29, 'PERSON'], [33, 47, 'PERSON'], [49, 53, 'YEAR'], [56, 196, 'WORK'], [220, 241, 'JOURNAL']], 'Comments': []}, {'id': 209, 'text': 'Lazarsfeld, P.F., 1950. The logical and mathematical foundation of latent structure analysis. Studies in Social Psychology in World War II Vol. IV: Measurement and Prediction, pp.362-412.', 'label': [[0, 16, 'PERSON'], [18, 22, 'YEAR'], [24, 93, 'WORK'], [94, 174, 'JOURNAL']], 'Comments': []}, {'id': 210, 'text': 'Lubke, G.H. and Muthén, B., 2005. Investigating population heterogeneity with factor mixture models. Psychological methods, 10(1), p.21.', 'label': [[0, 11, 'PERSON'], [16, 26, 'PERSON'], [28, 32, 'YEAR'], [34, 100, 'WORK'], [101, 122, 'JOURNAL']], 'Comments': []}, {'id': 211, 'text': 'Mankiw, N.G., Reis, R. and Wolfers, J., 2003. Disagreement about inflation expectations. NBER macroeconomics annual, 18, pp.209-248.', 'label': [[0, 12, 'PERSON'], [14, 22, 'PERSON'], [27, 38, 'PERSON'], [40, 44, 'YEAR'], [46, 88, 'WORK'], [89, 115, 'JOURNAL']], 'Comments': []}, {'id': 212, 'text': 'Muthén, B., 2006. The potential of growth mixture modelling. Infant and Child Development, 15(6), p.623.', 'label': [[0, 10, 'PERSON'], [12, 16, 'YEAR'], [18, 60, 'WORK'], [61, 89, 'JOURNAL']], 'Comments': []}, {'id': 213, 'text': 'Muthen, B. and Asparouhov, T., 2006. Item response mixture modeling: Application to tobacco dependence criteria. Addictive behaviors, 31(6), pp.1050-1066.', 'label': [[0, 10, 'PERSON'], [15, 29, 'PERSON'], [31, 35, 'YEAR'], [37, 112, 'WORK'], [113, 132, 'JOURNAL']], 'Comments': []}, {'id': 214, 'text': 'Muthén, B., Asparouhov, T. and Rebollo, I., 2006. Advances in behavioral genetics modeling using Mplus: Applications of factor mixture modeling to twin data. Twin research and human genetics, 9(3), pp.313-324.', 'label': [[0, 10, 'PERSON'], [12, 26, 'PERSON'], [31, 42, 'PERSON'], [44, 48, 'YEAR'], [50, 157, 'WORK'], [158, 190, 'JOURNAL']], 'Comments': []}, {'id': 215, 'text': 'Nylund-Gibson, K. and Choi, A.Y., 2018. Ten frequently asked questions about latent class analysis. Translational Issues in Psychological Science, 4(4), p.440.', 'label': [[0, 17, 'PERSON'], [22, 32, 'PERSON'], [34, 38, 'YEAR'], [40, 99, 'WORK'], [100, 123, 'JOURNAL']], 'Comments': []}, {'id': 218, 'text': 'Rasmussen, E.R., Neuman, R.J., Heath, A.C., Levy, F., Hay, D.A. and Todd, R.D., 2002. Replication of the latent class structure of Attention‐Deficit/Hyperactivity Disorder (ADHD) subtypes in a sample of Australian twins. Journal of Child Psychology and Psychiatry, 43(8), pp.1018-1028.', 'label': [[0, 15, 'PERSON'], [17, 29, 'PERSON'], [31, 42, 'PERSON'], [44, 52, 'PERSON'], [54, 63, 'PERSON'], [68, 78, 'PERSON'], [80, 84, 'YEAR'], [86, 220, 'WORK'], [221, 263, 'JOURNAL']], 'Comments': []}, {'id': 219, 'text': 'Reboussin, B.A., Ip, E.H. and Wolfson, M., 2008. Locally dependent latent class models with covariates: an application to under‐age drinking in the USA. Journal of the Royal Statistical Society: Series A (Statistics in Society), 171(4), pp.877-897.', 'label': [[0, 15, 'PERSON'], [17, 25, 'PERSON'], [30, 41, 'PERSON'], [43, 47, 'YEAR'], [49, 152, 'WORK'], [153, 227, 'JOURNAL']], 'Comments': []}, {'id': 220, 'text': 'Sanyal, A., Kapoor, R. and Singh, N., 2021. Impacts of the COVID Lockdown on Household Incomes: Evidence from India. Available at SSRN 3948266.', 'label': [[0, 10, 'PERSON'], [12, 22, 'PERSON'], [27, 36, 'PERSON'], [38, 42, 'YEAR'], [44, 116, 'WORK'], [130, 135, 'ORG']], 'Comments': []}, {'id': 221, 'text': 'Sinclair, M.D. and Gastwirth, J.L., 1996. On procedures for evaluating the effectiveness of reinterview survey methods: application to labor force data. Journal of the American Statistical Association, 91(435), pp.961-969.', 'label': [[0, 14, 'PERSON'], [19, 34, 'PERSON'], [36, 40, 'YEAR'], [42, 152, 'WORK'], [153, 200, 'JOURNAL']], 'Comments': []}, {'id': 222, 'text': 'Souleles, N.S., 2004. Expectations, heterogeneous forecast errors, and consumption: Micro evidence from the Michigan consumer sentiment surveys. Journal of Money, Credit and Banking, pp.39-72.', 'label': [[0, 14, 'PERSON'], [16, 20, 'YEAR'], [22, 144, 'WORK'], [145, 181, 'JOURNAL']], 'Comments': []}, {'id': 223, 'text': 'Sullivan, P.F., Kessler, R.C. and Kendler, K.S., 1998. Latent class analysis of lifetime depressive symptoms in the national comorbidity survey. American Journal of Psychiatry, 155(10), pp.1398-1406.', 'label': [[0, 14, 'PERSON'], [16, 29, 'PERSON'], [34, 47, 'PERSON'], [49, 53, 'YEAR'], [55, 144, 'WORK'], [145, 175, 'JOURNAL']], 'Comments': []}, {'id': 224, 'text': 'Thijs, H., Molenberghs, G. and Verbeke, G., 2000. The milk protein trial: influence analysis of the dropout process. Biometrical Journal: Journal of Mathematical Methods in Biosciences, 42(5), pp.617-646.', 'label': [[0, 9, 'PERSON'], [11, 26, 'PERSON'], [31, 42, 'PERSON'], [44, 48, 'YEAR'], [50, 116, 'WORK'], [117, 184, 'JOURNAL']], 'Comments': []}, {'id': 225, 'text': 'Vermunt, J.K., 1997. LEM: A general program for the analysis of categorical data. Department of Methodology and Statistics, Tilburg University.', 'label': [[0, 13, 'PERSON'], [15, 19, 'YEAR'], [21, 81, 'WORK'], [82, 142, 'WORK']], 'Comments': []}, {'id': 226, 'text': 'Wang, Z. and Jegelka, S., 2017, July. Max-value entropy search for efficient Bayesian optimization. In International Conference on Machine Learning (pp. 3627-3635). PMLR.', 'label': [[0, 8, 'PERSON'], [13, 24, 'PERSON'], [26, 30, 'YEAR'], [38, 99, 'WORK'], [100, 147, 'JOURNAL']], 'Comments': []}, {'id': 227, 'text': 'Wedel, M. and Kamakura, W.A., 2000. Market segmentation: Conceptual and methodological foundations. Springer Science & Business Media.', 'label': [[0, 9, 'PERSON'], [14, 28, 'PERSON'], [30, 34, 'YEAR'], [36, 99, 'WORK'], [100, 134, 'JOURNAL']], 'Comments': []}, {'id': 228, 'text': 'Yang, C.C., 2006. Evaluating latent class analysis models in qualitative phenotype identification. Computational statistics & data analysis, 50(4), pp.1090-1104.', 'label': [[0, 10, 'PERSON'], [12, 16, 'YEAR'], [18, 98, 'WORK'], [99, 139, 'JOURNAL']], 'Comments': []}, {'id': 229, 'text': 'Nylund-Gibson, K. and Choi, A.Y., 2018. Ten frequently asked questions about latent class analysis. Translational Issues in Psychological Science, 4(4), p.440.', 'label': [[0, 17, 'PERSON'], [22, 32, 'PERSON'], [34, 38, 'YEAR'], [40, 99, 'WORK'], [100, 145, 'JOURNAL']], 'Comments': []}, {'id': 230, 'text': 'Gabriel Jimenez, Steven Ongena, Jose Luis Peydró, and Jesus Saurina. Hazardous times for monetary policy: What do 23 million loans tell us about the impact of monetary policy on credit risk taking? Econometrica, 82:463–505, 2014.', 'label': [[0, 15, 'PERSON'], [17, 30, 'PERSON'], [32, 48, 'PERSON'], [54, 67, 'PERSON'], [69, 197, 'WORK'], [198, 210, 'JOURNAL']], 'Comments': []}, {'id': 234, 'text': 'Babii, Andrii, Eric Ghysels, and Jonas Striaukas (2021) ‘Machine learning time series regressions with an application to nowcasting.’ Journal of Business & Economic Statistics pp. 1–23', 'label': [[0, 13, 'PERSON'], [15, 27, 'PERSON'], [33, 48, 'PERSON'], [50, 54, 'YEAR'], [56, 133, 'WORK'], [134, 175, 'JOURNAL']], 'Comments': []}, {'id': 235, 'text': 'Bańbura, Marta, Domenico Giannone, and Lucrezia Reichlin (2010) ‘Large bayesian vector auto regressions.’ Journal of Applied Econometrics 25(1), 71–92', 'label': [[0, 14, 'PERSON'], [16, 33, 'PERSON'], [39, 56, 'PERSON'], [58, 62, 'YEAR'], [64, 105, 'WORK'], [106, 137, 'WORK']], 'Comments': []}, {'id': 236, 'text': 'Breiman, Leo (2001) ‘Random forests.’ Machine Learning 45(1), 5–32', 'label': [[0, 12, 'PERSON'], [14, 18, 'YEAR'], [20, 54, 'WORK']], 'Comments': []}, {'id': 237, 'text': 'Breitung, Jörg, and Christoph Roling (2015) ‘Forecasting inflation rates using daily data: A nonparametric midas approach.’ Journal of Forecasting 34(7), 588–603', 'label': [[0, 14, 'PERSON'], [20, 36, 'PERSON'], [38, 42, 'YEAR'], [44, 123, 'WORK'], [124, 146, 'JOURNAL']], 'Comments': []}, {'id': 238, 'text': 'Coulombe, Philippe Goulet (2020) ‘The Macroeconomy as a Random Forest.’ Papers 2006.12724, arXiv.org, June', 'label': [[0, 25, 'PERSON'], [27, 31, 'YEAR'], [33, 71, 'WORK']], 'Comments': []}, {'id': 239, 'text': 'Diebold, Francis X., and Roberto S. Mariano (1995) ‘Comparing predictive accuracy.’ Journal of Business & Economic Statistics 13(3), 253–263', 'label': [[0, 19, 'PERSON'], [25, 43, 'PERSON'], [45, 49, 'YEAR'], [51, 83, 'WORK'], [84, 125, 'JOURNAL']], 'Comments': []}, {'id': 240, 'text': 'Durbin, James, and Siem Jan Koopman (2012) Time Series Analysis by State Space Methods (Oxford University Press)', 'label': [[0, 13, 'PERSON'], [19, 35, 'PERSON'], [37, 41, 'YEAR'], [43, 86, 'WORK'], [88, 111, 'JOURNAL']], 'Comments': []}, {'id': 241, 'text': 'Ghysels, Eric, Pedro Santa-Clara, and Rossen Valkanov (2004) ‘The midas touch: Mixed data sampling regression models.’ CIRANO Working Papers, CIRANO', 'label': [[0, 13, 'PERSON'], [15, 32, 'PERSON'], [38, 53, 'PERSON'], [55, 59, 'YEAR'], [61, 118, 'WORK'], [119, 140, 'JOURNAL']], 'Comments': []}, {'id': 242, 'text': 'Giannone, Domenico, Francesca Monti, and Andrej Sokol (2018) ‘A New Approach to Nowcasting with MixedFrequency Bayesian VARs.’ Working Papers, NBER-NSF SBIES Conference, May', 'label': [[0, 18, 'PERSON'], [20, 35, 'PERSON'], [41, 53, 'PERSON'], [55, 59, 'YEAR'], [61, 126, 'WORK'], [127, 168, 'JOURNAL']], 'Comments': []}, {'id': 243, 'text': 'Giannone, Domenico, Lucrenzia Reichlin, and David Small (2008) ‘Nowcasting: The real-time informational content of macroeconomic data.’ Journal of Monetary Economics 55(4), 665–676', 'label': [[0, 18, 'PERSON'], [20, 38, 'PERSON'], [44, 55, 'PERSON'], [57, 61, 'YEAR'], [63, 135, 'WORK'], [136, 165, 'JOURNAL']], 'Comments': []}, {'id': 244, 'text': 'Harvey, David, Stephen Leybourne, and Paul Newbold (1997) ‘Testing the equality of prediction mean squared errors.’ International Journal of Forecasting 13(2), 281–291', 'label': [[0, 13, 'PERSON'], [15, 32, 'PERSON'], [38, 50, 'PERSON'], [52, 56, 'YEAR'], [58, 115, 'WORK'], [116, 152, 'JOURNAL']], 'Comments': []}, {'id': 245, 'text': 'Ho, Tin Kam (1995) ‘Random decision forests.’ In ‘Proceedings of the Third International Conference on Document Analysis and Recognition (Volume 1) - Volume 1’ ICDAR ’95 IEEE Computer Society M pp. 278–282', 'label': [[0, 11, 'PERSON'], [13, 17, 'YEAR'], [19, 45, 'WORK']], 'Comments': []}, {'id': 246, 'text': 'Knotek, Edward S, and Saeed Zaman (2017) ‘Nowcasting us headline and core inflation.’ Journal of Money, Credit and Banking 49(5), 931–968', 'label': [[0, 16, 'PERSON'], [22, 33, 'PERSON'], [35, 39, 'YEAR'], [41, 85, 'WORK'], [86, 122, 'JOURNAL']], 'Comments': []}, {'id': 247, 'text': 'Lewis, Daniel J., Karel Mertens, James H. Stock, and Mihir Trivedi (2021) ‘Measuring real activity using a weekly economic index.’ Journal of Applied Econometrics. forthcoming', 'label': [[0, 16, 'PERSON'], [18, 31, 'PERSON'], [33, 47, 'PERSON'], [53, 66, 'PERSON'], [68, 72, 'YEAR'], [74, 130, 'WORK'], [131, 162, 'JOURNAL']], 'Comments': []}, {'id': 231, 'text': 'Luis Peydró, Andrea Polo, and Matteo Sette. Monetary policy at work: security and credit application registers evidence. Journal of Financial Economics, 140(3):789–814, 2021.', 'label': [[0, 11, 'PERSON'], [13, 24, 'PERSON'], [30, 42, 'PERSON'], [44, 120, 'WORK'], [121, 151, 'JOURNAL'], [169, 173, 'YEAR']], 'Comments': []}, {'id': 232, 'text': 'Attanasio, O.P., 2000. Consumer durables and inertial behaviour: Estimation and aggregation of (S, s) rules for automobile purchases. The Review of Economic Studies, 67(4), pp.667-696.', 'label': [[0, 15, 'PERSON'], [17, 21, 'YEAR'], [23, 133, 'WORK'], [134, 164, 'JOURNAL']], 'Comments': []}, {'id': 233, 'text': 'Puri, M. and Robinson, D.T., 2007. Optimism and economic choice. Journal of financial economics, 86(1), pp.71-99.', 'label': [[0, 8, 'PERSON'], [13, 27, 'PERSON'], [29, 33, 'YEAR'], [35, 64, 'WORK'], [65, 95, 'JOURNAL']], 'Comments': []}, {'id': 248, 'text': 'Mariano, Roberto S., and Yasutomo Murasawa (2003) ‘A new coincident index of business cycles based on monthly and quarterly series.’ Journal of Applied Econometrics 18(4), 427–443', 'label': [[0, 19, 'PERSON'], [25, 42, 'PERSON'], [44, 48, 'YEAR'], [50, 132, 'WORK'], [133, 164, 'JOURNAL']], 'Comments': []}, {'id': 249, 'text': 'McCracken, Michael, and Serena Ng (2015) ‘Fred-md: a monthly database for macroeconomic research.’ Journal of Business & Economic Statistics', 'label': [[0, 18, 'PERSON'], [24, 33, 'PERSON'], [35, 39, 'YEAR'], [41, 98, 'WORK'], [99, 140, 'JOURNAL']], 'Comments': []}, {'id': 250, 'text': 'Medeiros, Marcelo C., Gabriel F. R. Vasconcelos, Álvaro Veiga, and Eduardo Zilberman (2021) ‘Forecasting Inflation in a Data-Rich Environment: The Benefits of Machine Learning Methods.’ Journal of Business & Economic Statistics 39(1), 98–119', 'label': [[0, 20, 'PERSON'], [22, 47, 'PERSON'], [49, 61, 'PERSON'], [67, 84, 'PERSON'], [91, 185, 'WORK'], [186, 227, 'JOURNAL']], 'Comments': []}, {'id': 251, 'text': 'Modugno, Michele (2013) ‘Now-casting inflation using high frequency data.’ International Journal of Forecasting 29(4), 664–675', 'label': [[0, 16, 'PERSON'], [18, 22, 'YEAR'], [24, 74, 'WORK'], [75, 111, 'JOURNAL']], 'Comments': []}, {'id': 252, 'text': 'Mogliani, Matteo, and Simoni Anna (2021) ‘Bayesian midas penalized regressions: Estimation, selection, and prediction.’ Journal of Econometrics 222(1), 833–860', 'label': [[0, 16, 'PERSON'], [22, 33, 'PERSON'], [35, 39, 'YEAR'], [41, 119, 'WORK'], [120, 143, 'JOURNAL']], 'Comments': []}, {'id': 253, 'text': 'Watson, Mark W., and Robert F. Engle (1983) ‘Alternative Algorithms for the Estimation of Dynamic Factor, Mimic and Varying Coefficient Regression Models.’ Journal of Econometrics 23(3), 385–400', 'label': [[0, 15, 'PERSON'], [21, 36, 'PERSON'], [38, 42, 'YEAR'], [44, 155, 'WORK'], [156, 179, 'JOURNAL']], 'Comments': []}]"
      ]
    },
    {
      "cell_type": "code",
      "execution_count": null,
      "metadata": {
        "colab": {
          "base_uri": "https://localhost:8080/"
        },
        "id": "GDrQgJYh4tOx",
        "outputId": "400976b4-fff0-46bb-c7bf-d740a2a48dd9"
      },
      "outputs": [
        {
          "name": "stderr",
          "output_type": "stream",
          "text": [
            "/usr/local/lib/python3.10/dist-packages/spacy/training/iob_utils.py:149: UserWarning: [W030] Some entities could not be aligned in the text \"White, H. L., Jr.. 1982. Maximum likelihood estima...\" with entities \"[[0, 12, 'PERSON'], [19, 23, 'PERSON'], [25, 78, '...\". Use `spacy.training.offsets_to_biluo_tags(nlp.make_doc(text), entities)` to check the alignment. Misaligned entities ('-') will be ignored during training.\n",
            "  warnings.warn(\n",
            "/usr/local/lib/python3.10/dist-packages/spacy/training/iob_utils.py:149: UserWarning: [W030] Some entities could not be aligned in the text \"Béland, L.-P., Brodeur, A., & Wright, T. (2020). T...\" with entities \"[[0, 12, 'PERSON'], [15, 26, 'PERSON'], [30, 40, '...\". Use `spacy.training.offsets_to_biluo_tags(nlp.make_doc(text), entities)` to check the alignment. Misaligned entities ('-') will be ignored during training.\n",
            "  warnings.warn(\n",
            "/usr/local/lib/python3.10/dist-packages/spacy/training/iob_utils.py:149: UserWarning: [W030] Some entities could not be aligned in the text \"Medeiros, Marcelo C., Gabriel F. R. Vasconcelos, Á...\" with entities \"[[0, 20, 'PERSON'], [22, 47, 'PERSON'], [49, 61, '...\". Use `spacy.training.offsets_to_biluo_tags(nlp.make_doc(text), entities)` to check the alignment. Misaligned entities ('-') will be ignored during training.\n",
            "  warnings.warn(\n",
            "/usr/local/lib/python3.10/dist-packages/spacy/training/iob_utils.py:149: UserWarning: [W030] Some entities could not be aligned in the text \"Lanza, S. T., Flaherty, B. P., & Collins, L. M. (2...\" with entities \"[[0, 12, 'PERSON'], [14, 29, 'PERSON'], [33, 47, '...\". Use `spacy.training.offsets_to_biluo_tags(nlp.make_doc(text), entities)` to check the alignment. Misaligned entities ('-') will be ignored during training.\n",
            "  warnings.warn(\n",
            "/usr/local/lib/python3.10/dist-packages/spacy/training/iob_utils.py:149: UserWarning: [W030] Some entities could not be aligned in the text \"Mark Gertler and Peter Karadi. Monetary policy sur...\" with entities \"[[0, 12, 'PERSON'], [17, 29, 'PERSON'], [30, 94, '...\". Use `spacy.training.offsets_to_biluo_tags(nlp.make_doc(text), entities)` to check the alignment. Misaligned entities ('-') will be ignored during training.\n",
            "  warnings.warn(\n",
            "/usr/local/lib/python3.10/dist-packages/spacy/training/iob_utils.py:149: UserWarning: [W030] Some entities could not be aligned in the text \"Rizvi, S.A., Juhro, S.M., & Narayan, P.K. 2021. Un...\" with entities \"[[0, 10, 'PERSON'], [13, 24, 'PERSON'], [28, 41, '...\". Use `spacy.training.offsets_to_biluo_tags(nlp.make_doc(text), entities)` to check the alignment. Misaligned entities ('-') will be ignored during training.\n",
            "  warnings.warn(\n",
            "/usr/local/lib/python3.10/dist-packages/spacy/training/iob_utils.py:149: UserWarning: [W030] Some entities could not be aligned in the text \"Sanyal, A., Kapoor, R. and Singh, N., 2021. Impact...\" with entities \"[[0, 10, 'PERSON'], [12, 22, 'PERSON'], [27, 36, '...\". Use `spacy.training.offsets_to_biluo_tags(nlp.make_doc(text), entities)` to check the alignment. Misaligned entities ('-') will be ignored during training.\n",
            "  warnings.warn(\n",
            "/usr/local/lib/python3.10/dist-packages/spacy/training/iob_utils.py:149: UserWarning: [W030] Some entities could not be aligned in the text \"Eurostat (2022b). Unemployment - LFS adjusted seri...\" with entities \"[[0, 9, 'ORG'], [10, 14, 'YEAR'], [18, 113, 'WORK'...\". Use `spacy.training.offsets_to_biluo_tags(nlp.make_doc(text), entities)` to check the alignment. Misaligned entities ('-') will be ignored during training.\n",
            "  warnings.warn(\n",
            "/usr/local/lib/python3.10/dist-packages/spacy/training/iob_utils.py:149: UserWarning: [W030] Some entities could not be aligned in the text \"Lagakos, T.A.M.K.D. and VanVuren, M. (2020). How S...\" with entities \"[[0, 18, 'PERSON'], [24, 36, 'PERSON'], [38, 42, '...\". Use `spacy.training.offsets_to_biluo_tags(nlp.make_doc(text), entities)` to check the alignment. Misaligned entities ('-') will be ignored during training.\n",
            "  warnings.warn(\n",
            "/usr/local/lib/python3.10/dist-packages/spacy/training/iob_utils.py:149: UserWarning: [W030] Some entities could not be aligned in the text \"OECD (2021), OECD Employment Outlook 2021: Navigat...\" with entities \"[[0, 5, 'ORG'], [6, 10, 'YEAR'], [13, 87, 'WORK'],...\". Use `spacy.training.offsets_to_biluo_tags(nlp.make_doc(text), entities)` to check the alignment. Misaligned entities ('-') will be ignored during training.\n",
            "  warnings.warn(\n",
            "/usr/local/lib/python3.10/dist-packages/spacy/training/iob_utils.py:149: UserWarning: [W030] Some entities could not be aligned in the text \"White, H. L., Jr. 1980. A heteroskedasticity-consi...\" with entities \"[[0, 12, 'PERSON'], [18, 22, 'YEAR'], [24, 125, 'W...\". Use `spacy.training.offsets_to_biluo_tags(nlp.make_doc(text), entities)` to check the alignment. Misaligned entities ('-') will be ignored during training.\n",
            "  warnings.warn(\n",
            "/usr/local/lib/python3.10/dist-packages/spacy/training/iob_utils.py:149: UserWarning: [W030] Some entities could not be aligned in the text \"Ridhwan, M.M. 2021. Spatial wage disparities and a...\" with entities \"[[0, 12, 'PERSON'], [14, 18, 'YEAR'], [20, 113, 'W...\". Use `spacy.training.offsets_to_biluo_tags(nlp.make_doc(text), entities)` to check the alignment. Misaligned entities ('-') will be ignored during training.\n",
            "  warnings.warn(\n",
            "/usr/local/lib/python3.10/dist-packages/spacy/training/iob_utils.py:149: UserWarning: [W030] Some entities could not be aligned in the text \"Balgova, M. et al. (2021), “Job Search during a Pa...\" with entities \"[[0, 10, 'PERSON'], [20, 24, 'YEAR'], [28, 104, 'W...\". Use `spacy.training.offsets_to_biluo_tags(nlp.make_doc(text), entities)` to check the alignment. Misaligned entities ('-') will be ignored during training.\n",
            "  warnings.warn(\n",
            "/usr/local/lib/python3.10/dist-packages/spacy/training/iob_utils.py:149: UserWarning: [W030] Some entities could not be aligned in the text \"Fabio Canova. Methods for Applied Macroeconomic Re...\" with entities \"[[0, 12, 'PERSON'], [13, 56, 'WORK'], [58, 85, 'JO...\". Use `spacy.training.offsets_to_biluo_tags(nlp.make_doc(text), entities)` to check the alignment. Misaligned entities ('-') will be ignored during training.\n",
            "  warnings.warn(\n",
            "/usr/local/lib/python3.10/dist-packages/spacy/training/iob_utils.py:149: UserWarning: [W030] Some entities could not be aligned in the text \"National Bureau of Economic Research. OECD (2020),...\" with entities \"[[0, 37, 'ORG'], [38, 43, 'ORG'], [44, 48, 'YEAR']...\". Use `spacy.training.offsets_to_biluo_tags(nlp.make_doc(text), entities)` to check the alignment. Misaligned entities ('-') will be ignored during training.\n",
            "  warnings.warn(\n",
            "/usr/local/lib/python3.10/dist-packages/spacy/training/iob_utils.py:149: UserWarning: [W030] Some entities could not be aligned in the text \"Forsythe, E., Kahn, L. B., Lange, F., & Wiczer, D....\" with entities \"[[0, 12, 'PERSON'], [14, 25, 'PERSON'], [27, 36, '...\". Use `spacy.training.offsets_to_biluo_tags(nlp.make_doc(text), entities)` to check the alignment. Misaligned entities ('-') will be ignored during training.\n",
            "  warnings.warn(\n",
            "/usr/local/lib/python3.10/dist-packages/spacy/training/iob_utils.py:149: UserWarning: [W030] Some entities could not be aligned in the text \"Hirvonen, K., de Brauw, A., & Abate, G.T. 2021. Fo...\" with entities \"[[0, 12, 'PERSON'], [14, 26, 'PERSON'], [30, 41, '...\". Use `spacy.training.offsets_to_biluo_tags(nlp.make_doc(text), entities)` to check the alignment. Misaligned entities ('-') will be ignored during training.\n",
            "  warnings.warn(\n",
            "/usr/local/lib/python3.10/dist-packages/spacy/training/iob_utils.py:149: UserWarning: [W030] Some entities could not be aligned in the text \"UNICEF, UNDP, Prospera, & SMERU. 2021. Analysis of...\" with entities \"[[0, 6, 'ORG'], [8, 12, 'ORG'], [14, 22, 'ORG'], [...\". Use `spacy.training.offsets_to_biluo_tags(nlp.make_doc(text), entities)` to check the alignment. Misaligned entities ('-') will be ignored during training.\n",
            "  warnings.warn(\n",
            "/usr/local/lib/python3.10/dist-packages/spacy/training/iob_utils.py:149: UserWarning: [W030] Some entities could not be aligned in the text \"Eurostat (2022a). Annual national accounts (nama10...\" with entities \"[[0, 9, 'ORG'], [10, 14, 'YEAR'], [18, 120, 'WORK'...\". Use `spacy.training.offsets_to_biluo_tags(nlp.make_doc(text), entities)` to check the alignment. Misaligned entities ('-') will be ignored during training.\n",
            "  warnings.warn(\n",
            "/usr/local/lib/python3.10/dist-packages/spacy/training/iob_utils.py:149: UserWarning: [W030] Some entities could not be aligned in the text \"Eurofound (2021). Impact of COVID-19 on young peop...\" with entities \"[[0, 10, 'ORG'], [11, 15, 'YEAR'], [18, 62, 'WORK'...\". Use `spacy.training.offsets_to_biluo_tags(nlp.make_doc(text), entities)` to check the alignment. Misaligned entities ('-') will be ignored during training.\n",
            "  warnings.warn(\n",
            "/usr/local/lib/python3.10/dist-packages/spacy/training/iob_utils.py:149: UserWarning: [W030] Some entities could not be aligned in the text \"OECD/ILO (2019), Tackling Vulnerability in the Inf...\" with entities \"[[0, 4, 'ORG'], [5, 9, 'ORG'], [10, 14, 'YEAR'], [...\". Use `spacy.training.offsets_to_biluo_tags(nlp.make_doc(text), entities)` to check the alignment. Misaligned entities ('-') will be ignored during training.\n",
            "  warnings.warn(\n",
            "/usr/local/lib/python3.10/dist-packages/spacy/training/iob_utils.py:149: UserWarning: [W030] Some entities could not be aligned in the text \"Ludvigson, S.C., Ma, S., & Ng, S. 2020. COVID-19 a...\" with entities \"[[0, 15, 'PERSON'], [17, 23, 'PERSON'], [27, 33, '...\". Use `spacy.training.offsets_to_biluo_tags(nlp.make_doc(text), entities)` to check the alignment. Misaligned entities ('-') will be ignored during training.\n",
            "  warnings.warn(\n"
          ]
        },
        {
          "name": "stdout",
          "output_type": "stream",
          "text": [
            "{'ner': 1797.3812970909034}\n",
            "{'ner': 1345.7407483845334}\n",
            "{'ner': 1874.637655698641}\n",
            "{'ner': 1442.993700642468}\n",
            "{'ner': 764.4584239773959}\n",
            "{'ner': 674.0160556232861}\n",
            "{'ner': 554.3444266709084}\n",
            "{'ner': 524.3460194239436}\n",
            "{'ner': 553.8680602712652}\n",
            "{'ner': 579.4689566115314}\n",
            "{'ner': 397.5146716414935}\n",
            "{'ner': 469.43518302187204}\n",
            "{'ner': 412.43428947174897}\n",
            "{'ner': 327.61968779129984}\n",
            "{'ner': 304.4486900545879}\n",
            "{'ner': 371.9400005957032}\n",
            "{'ner': 299.86122808888985}\n",
            "{'ner': 267.2831535100088}\n",
            "{'ner': 252.90568987596737}\n",
            "{'ner': 233.05077258804332}\n",
            "{'ner': 251.13081890884865}\n",
            "{'ner': 283.79598778561575}\n",
            "{'ner': 206.01112144653155}\n",
            "{'ner': 230.2822109375283}\n",
            "{'ner': 226.79801992547894}\n",
            "{'ner': 272.4075252827539}\n",
            "{'ner': 234.81299480208085}\n",
            "{'ner': 207.4191405147794}\n",
            "{'ner': 278.54838344734725}\n",
            "{'ner': 212.5039279581849}\n",
            "{'ner': 181.48294817124733}\n",
            "{'ner': 216.26843745889798}\n",
            "{'ner': 215.2983354292024}\n",
            "{'ner': 179.12811440806777}\n",
            "{'ner': 152.8762341558654}\n",
            "{'ner': 165.19800247582697}\n",
            "{'ner': 186.93836388128503}\n",
            "{'ner': 137.1950547219942}\n",
            "{'ner': 170.32551363217425}\n",
            "{'ner': 186.0736171954415}\n",
            "{'ner': 148.55804774230458}\n",
            "{'ner': 168.4484856973287}\n",
            "{'ner': 158.74054343525822}\n",
            "{'ner': 151.84543306323664}\n",
            "{'ner': 151.30001969114775}\n",
            "{'ner': 143.81104638959607}\n",
            "{'ner': 158.62864757250503}\n",
            "{'ner': 181.52357029747176}\n",
            "{'ner': 155.05258144903797}\n",
            "{'ner': 144.84174306488492}\n",
            "{'ner': 134.0823037419727}\n",
            "{'ner': 126.0782530490258}\n",
            "{'ner': 163.62848280189922}\n",
            "{'ner': 154.24306721022856}\n",
            "{'ner': 146.68822459593784}\n",
            "{'ner': 114.88225295630527}\n",
            "{'ner': 124.19005970539659}\n",
            "{'ner': 155.25096050157578}\n",
            "{'ner': 109.0650372245979}\n",
            "{'ner': 100.2801163181311}\n",
            "{'ner': 148.92726531624936}\n",
            "{'ner': 87.56762608522612}\n",
            "{'ner': 78.29960809095304}\n",
            "{'ner': 101.36622684343084}\n",
            "{'ner': 126.88697339496878}\n",
            "{'ner': 109.77456710628822}\n",
            "{'ner': 100.06918432105101}\n",
            "{'ner': 97.92378567992307}\n",
            "{'ner': 129.0092062554925}\n",
            "{'ner': 88.901287269746}\n",
            "{'ner': 85.16340213191734}\n",
            "{'ner': 97.17289441877519}\n",
            "{'ner': 74.60105312388038}\n",
            "{'ner': 108.57020704361277}\n",
            "{'ner': 84.04146189633619}\n",
            "{'ner': 91.93497801712911}\n",
            "{'ner': 76.92287567599043}\n",
            "{'ner': 143.91761418472964}\n",
            "{'ner': 78.48303745228588}\n",
            "{'ner': 69.71168094856431}\n",
            "{'ner': 66.34004003872624}\n",
            "{'ner': 113.85334488303839}\n",
            "{'ner': 68.58057336116428}\n",
            "{'ner': 61.862987984736}\n",
            "{'ner': 97.29086146769333}\n",
            "{'ner': 103.02142537527817}\n",
            "{'ner': 79.61825629574584}\n",
            "{'ner': 69.71293641206037}\n",
            "{'ner': 69.48315365802162}\n",
            "{'ner': 133.4152887427666}\n",
            "{'ner': 88.99140220934345}\n",
            "{'ner': 43.67765514312439}\n",
            "{'ner': 79.56337052456001}\n",
            "{'ner': 77.72422623156838}\n",
            "{'ner': 78.82515868340349}\n",
            "{'ner': 56.441276184510755}\n",
            "{'ner': 82.2962688607845}\n",
            "{'ner': 85.45133791314633}\n",
            "{'ner': 89.70426214619457}\n",
            "{'ner': 80.3791889171555}\n"
          ]
        }
      ],
      "source": [
        "import spacy\n",
        "import random\n",
        "from spacy.training.example import Example\n",
        "\n",
        "nlp = spacy.blank(\"en\")\n",
        "\n",
        "ner = nlp.add_pipe(\"ner\")\n",
        "\n",
        "optimizer = nlp.begin_training()\n",
        "\n",
        "for iteration in range(100):\n",
        "    random.shuffle(TRAIN_DATA)\n",
        "    losses = {}\n",
        "    for dic in TRAIN_DATA:\n",
        "        dicionario = {\"entities\": dic['label']}\n",
        "        example = Example.from_dict(nlp.make_doc(dic['text']), dicionario)\n",
        "        nlp.update([example], drop=0.5, losses=losses)\n",
        "    print(losses)"
      ]
    },
    {
      "cell_type": "code",
      "execution_count": null,
      "metadata": {
        "id": "am8LEKAVAble"
      },
      "outputs": [],
      "source": [
        "from google.colab import drive\n",
        "drive.mount('/content/drive')"
      ]
    },
    {
      "cell_type": "code",
      "execution_count": null,
      "metadata": {
        "id": "xC47FC_pB7w9"
      },
      "outputs": [],
      "source": [
        "nlp.to_disk(\"/content/drive/My Drive/FGV/model_custom_train\")"
      ]
    },
    {
      "cell_type": "code",
      "execution_count": null,
      "metadata": {
        "id": "O6iYK4TMBF-q"
      },
      "outputs": [],
      "source": [
        "# carregar modelo\n",
        "import spacy\n",
        "nlp = spacy.load(\"/content/drive/My Drive/FGV/model_custom_train\")"
      ]
    },
    {
      "cell_type": "code",
      "execution_count": null,
      "metadata": {
        "colab": {
          "base_uri": "https://localhost:8080/"
        },
        "id": "gNCBiK7m6uIf",
        "outputId": "b55e36b7-9ea3-4353-9453-c569059891f8"
      },
      "outputs": [
        {
          "name": "stdout",
          "output_type": "stream",
          "text": [
            "Lei Zhang 0 9 PERSON\n",
            "Shuai Wang 11 21 PERSON\n",
            "Bing Liu 26 34 PERSON\n",
            "Deep Learning for Sentiment Analysis: A Survey\" in National Science Foundation (NSF) 37 121 WORK\n",
            "Huawei Technologies 123 142 PERSON\n",
            "2017 153 157 YEAR\n"
          ]
        }
      ],
      "source": [
        "# Teste 1\n",
        "texto_de_teste = 'Lei Zhang, Shuai Wang and Bing Liu, \"Deep Learning for \\\n",
        "Sentiment Analysis: A Survey\" in National Science Foundation (NSF), Huawei Technologies Co. Ltd., 2017.'\n",
        "\n",
        "doc = nlp(texto_de_teste)\n",
        "\n",
        "for ent in doc.ents:\n",
        "    print(ent.text, ent.start_char, ent.end_char, ent.label_)"
      ]
    },
    {
      "cell_type": "code",
      "execution_count": null,
      "metadata": {
        "colab": {
          "base_uri": "https://localhost:8080/"
        },
        "id": "bHk81Wa95Swz",
        "outputId": "a1c731fd-d1ea-4e1b-acc9-5a7baad49b2a"
      },
      "outputs": [
        {
          "name": "stdout",
          "output_type": "stream",
          "text": [
            "Stormo, G. D. 0 13 PERSON\n",
            "Schneider, T. D. 15 31 PERSON\n",
            "Gold, L. 33 41 PERSON\n",
            "Ehrenfeuch, A. Use 44 62 PERSON\n",
            "Nucleic Acids Res 147 164 JOURNAL\n",
            "1982 181 185 YEAR\n"
          ]
        }
      ],
      "source": [
        "# Teste 2\n",
        "texto_de_teste = 'Stormo, G. D., Schneider, T. D., Gold, L. & Ehrenfeuch, A. Use of the \\\n",
        "perceptron algorithm to distinguish translation initiation sites in E. coli. Nucleic Acids Res. 10, 2997–3011 (1982)'\n",
        "\n",
        "doc = nlp(texto_de_teste)\n",
        "\n",
        "for ent in doc.ents:\n",
        "    print(ent.text, ent.start_char, ent.end_char, ent.label_)"
      ]
    },
    {
      "cell_type": "code",
      "execution_count": null,
      "metadata": {
        "colab": {
          "base_uri": "https://localhost:8080/"
        },
        "id": "QhP6221gVGRX",
        "outputId": "a3832e6f-9867-45ac-8aae-b3b5414a5be5"
      },
      "outputs": [
        {
          "name": "stdout",
          "output_type": "stream",
          "text": [
            "S. Angra 0 8 PERSON\n",
            "S. Ahuja 13 21 PERSON\n",
            "International Conference on Big Data Analytics and Computational Intelligence 63 140 JOURNAL\n",
            "2017 151 155 YEAR\n"
          ]
        }
      ],
      "source": [
        "# teste 3\n",
        "texto_de_teste = 'S. Angra and S. Ahuja, \"Machine Learning and its application\", \\\n",
        "International Conference on Big Data Analytics and Computational Intelligence (ICBDAC), 2017.'\n",
        "\n",
        "doc = nlp(texto_de_teste)\n",
        "\n",
        "\n",
        "for ent in doc.ents:\n",
        "    print(ent.text, ent.start_char, ent.end_char, ent.label_)"
      ]
    },
    {
      "cell_type": "code",
      "execution_count": null,
      "metadata": {
        "colab": {
          "base_uri": "https://localhost:8080/"
        },
        "id": "XKpmWsboTF8d",
        "outputId": "611346b7-c551-41a5-e45b-0a6be4c058c0"
      },
      "outputs": [
        {
          "name": "stdout",
          "output_type": "stream",
          "text": [
            "Amanpreet Singh 0 15 PERSON\n",
            "Narina Thakur 20 33 PERSON\n",
            "A review of supervised machine learning algorithms\", 36 88 WORK\n",
            "International Conference on Computing for Sustainable Global Development ( 94 168 ORG\n",
            "2016 179 183 YEAR\n"
          ]
        }
      ],
      "source": [
        "# Teste 4\n",
        "texto_de_teste = 'Amanpreet Singh and Narina Thakur, \"A review of supervised machine learning algorithms\", \\\n",
        " 3rd International Conference on Computing for Sustainable Global Development (INDIACom), 2016.'\n",
        "\n",
        "doc = nlp(texto_de_teste)\n",
        "\n",
        "for ent in doc.ents:\n",
        "    print(ent.text, ent.start_char, ent.end_char, ent.label_)"
      ]
    }
  ],
  "metadata": {
    "accelerator": "GPU",
    "colab": {
      "gpuType": "T4",
      "provenance": []
    },
    "kernelspec": {
      "display_name": "Python 3",
      "name": "python3"
    },
    "language_info": {
      "name": "python"
    }
  },
  "nbformat": 4,
  "nbformat_minor": 0
}
