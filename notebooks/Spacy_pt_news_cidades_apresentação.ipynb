{
  "cells": [
    {
      "cell_type": "code",
      "execution_count": null,
      "metadata": {
        "colab": {
          "base_uri": "https://localhost:8080/"
        },
        "id": "dwJGKnoV6FkV",
        "outputId": "51513702-1bf0-4b7c-cd60-784f3cc01fa7"
      },
      "outputs": [
        {
          "name": "stdout",
          "output_type": "stream",
          "text": [
            "Requirement already satisfied: spacy in /usr/local/lib/python3.10/dist-packages (3.6.1)\n",
            "Requirement already satisfied: spacy-legacy<3.1.0,>=3.0.11 in /usr/local/lib/python3.10/dist-packages (from spacy) (3.0.12)\n",
            "Requirement already satisfied: spacy-loggers<2.0.0,>=1.0.0 in /usr/local/lib/python3.10/dist-packages (from spacy) (1.0.5)\n",
            "Requirement already satisfied: murmurhash<1.1.0,>=0.28.0 in /usr/local/lib/python3.10/dist-packages (from spacy) (1.0.10)\n",
            "Requirement already satisfied: cymem<2.1.0,>=2.0.2 in /usr/local/lib/python3.10/dist-packages (from spacy) (2.0.8)\n",
            "Requirement already satisfied: preshed<3.1.0,>=3.0.2 in /usr/local/lib/python3.10/dist-packages (from spacy) (3.0.9)\n",
            "Requirement already satisfied: thinc<8.2.0,>=8.1.8 in /usr/local/lib/python3.10/dist-packages (from spacy) (8.1.12)\n",
            "Requirement already satisfied: wasabi<1.2.0,>=0.9.1 in /usr/local/lib/python3.10/dist-packages (from spacy) (1.1.2)\n",
            "Requirement already satisfied: srsly<3.0.0,>=2.4.3 in /usr/local/lib/python3.10/dist-packages (from spacy) (2.4.8)\n",
            "Requirement already satisfied: catalogue<2.1.0,>=2.0.6 in /usr/local/lib/python3.10/dist-packages (from spacy) (2.0.10)\n",
            "Requirement already satisfied: typer<0.10.0,>=0.3.0 in /usr/local/lib/python3.10/dist-packages (from spacy) (0.9.0)\n",
            "Requirement already satisfied: pathy>=0.10.0 in /usr/local/lib/python3.10/dist-packages (from spacy) (0.10.3)\n",
            "Requirement already satisfied: smart-open<7.0.0,>=5.2.1 in /usr/local/lib/python3.10/dist-packages (from spacy) (6.4.0)\n",
            "Requirement already satisfied: tqdm<5.0.0,>=4.38.0 in /usr/local/lib/python3.10/dist-packages (from spacy) (4.66.1)\n",
            "Requirement already satisfied: numpy>=1.15.0 in /usr/local/lib/python3.10/dist-packages (from spacy) (1.23.5)\n",
            "Requirement already satisfied: requests<3.0.0,>=2.13.0 in /usr/local/lib/python3.10/dist-packages (from spacy) (2.31.0)\n",
            "Requirement already satisfied: pydantic!=1.8,!=1.8.1,<3.0.0,>=1.7.4 in /usr/local/lib/python3.10/dist-packages (from spacy) (1.10.13)\n",
            "Requirement already satisfied: jinja2 in /usr/local/lib/python3.10/dist-packages (from spacy) (3.1.2)\n",
            "Requirement already satisfied: setuptools in /usr/local/lib/python3.10/dist-packages (from spacy) (67.7.2)\n",
            "Requirement already satisfied: packaging>=20.0 in /usr/local/lib/python3.10/dist-packages (from spacy) (23.2)\n",
            "Requirement already satisfied: langcodes<4.0.0,>=3.2.0 in /usr/local/lib/python3.10/dist-packages (from spacy) (3.3.0)\n",
            "Requirement already satisfied: typing-extensions>=4.2.0 in /usr/local/lib/python3.10/dist-packages (from pydantic!=1.8,!=1.8.1,<3.0.0,>=1.7.4->spacy) (4.5.0)\n",
            "Requirement already satisfied: charset-normalizer<4,>=2 in /usr/local/lib/python3.10/dist-packages (from requests<3.0.0,>=2.13.0->spacy) (3.3.2)\n",
            "Requirement already satisfied: idna<4,>=2.5 in /usr/local/lib/python3.10/dist-packages (from requests<3.0.0,>=2.13.0->spacy) (3.4)\n",
            "Requirement already satisfied: urllib3<3,>=1.21.1 in /usr/local/lib/python3.10/dist-packages (from requests<3.0.0,>=2.13.0->spacy) (2.0.7)\n",
            "Requirement already satisfied: certifi>=2017.4.17 in /usr/local/lib/python3.10/dist-packages (from requests<3.0.0,>=2.13.0->spacy) (2023.7.22)\n",
            "Requirement already satisfied: blis<0.8.0,>=0.7.8 in /usr/local/lib/python3.10/dist-packages (from thinc<8.2.0,>=8.1.8->spacy) (0.7.11)\n",
            "Requirement already satisfied: confection<1.0.0,>=0.0.1 in /usr/local/lib/python3.10/dist-packages (from thinc<8.2.0,>=8.1.8->spacy) (0.1.3)\n",
            "Requirement already satisfied: click<9.0.0,>=7.1.1 in /usr/local/lib/python3.10/dist-packages (from typer<0.10.0,>=0.3.0->spacy) (8.1.7)\n",
            "Requirement already satisfied: MarkupSafe>=2.0 in /usr/local/lib/python3.10/dist-packages (from jinja2->spacy) (2.1.3)\n"
          ]
        }
      ],
      "source": [
        "!pip install spacy"
      ]
    },
    {
      "cell_type": "code",
      "execution_count": 1,
      "metadata": {
        "colab": {
          "base_uri": "https://localhost:8080/"
        },
        "id": "tkV_ls0s6m6R",
        "outputId": "8902c609-9103-4ab3-93ac-992491f2c6e6"
      },
      "outputs": [
        {
          "name": "stdout",
          "output_type": "stream",
          "text": [
            "2023-11-24 20:27:44.305058: E tensorflow/compiler/xla/stream_executor/cuda/cuda_dnn.cc:9342] Unable to register cuDNN factory: Attempting to register factory for plugin cuDNN when one has already been registered\n",
            "2023-11-24 20:27:44.305123: E tensorflow/compiler/xla/stream_executor/cuda/cuda_fft.cc:609] Unable to register cuFFT factory: Attempting to register factory for plugin cuFFT when one has already been registered\n",
            "2023-11-24 20:27:44.305164: E tensorflow/compiler/xla/stream_executor/cuda/cuda_blas.cc:1518] Unable to register cuBLAS factory: Attempting to register factory for plugin cuBLAS when one has already been registered\n",
            "2023-11-24 20:27:44.343492: I tensorflow/core/platform/cpu_feature_guard.cc:182] This TensorFlow binary is optimized to use available CPU instructions in performance-critical operations.\n",
            "To enable the following instructions: AVX2 AVX512F FMA, in other operations, rebuild TensorFlow with the appropriate compiler flags.\n",
            "2023-11-24 20:27:47.924449: W tensorflow/compiler/tf2tensorrt/utils/py_utils.cc:38] TF-TRT Warning: Could not find TensorRT\n",
            "2023-11-24 20:27:50.937051: I tensorflow/compiler/xla/stream_executor/cuda/cuda_gpu_executor.cc:894] successful NUMA node read from SysFS had negative value (-1), but there must be at least one NUMA node, so returning NUMA node zero. See more at https://github.com/torvalds/linux/blob/v6.0/Documentation/ABI/testing/sysfs-bus-pci#L344-L355\n",
            "2023-11-24 20:27:50.937552: I tensorflow/compiler/xla/stream_executor/cuda/cuda_gpu_executor.cc:894] successful NUMA node read from SysFS had negative value (-1), but there must be at least one NUMA node, so returning NUMA node zero. See more at https://github.com/torvalds/linux/blob/v6.0/Documentation/ABI/testing/sysfs-bus-pci#L344-L355\n",
            "2023-11-24 20:27:50.937726: I tensorflow/compiler/xla/stream_executor/cuda/cuda_gpu_executor.cc:894] successful NUMA node read from SysFS had negative value (-1), but there must be at least one NUMA node, so returning NUMA node zero. See more at https://github.com/torvalds/linux/blob/v6.0/Documentation/ABI/testing/sysfs-bus-pci#L344-L355\n",
            "Collecting pt-core-news-lg==3.6.0\n",
            "  Downloading https://github.com/explosion/spacy-models/releases/download/pt_core_news_lg-3.6.0/pt_core_news_lg-3.6.0-py3-none-any.whl (568.2 MB)\n",
            "\u001b[2K     \u001b[90m━━━━━━━━━━━━━━━━━━━━━━━━━━━━━━━━━━━━━━━━\u001b[0m \u001b[32m568.2/568.2 MB\u001b[0m \u001b[31m2.1 MB/s\u001b[0m eta \u001b[36m0:00:00\u001b[0m\n",
            "\u001b[?25hRequirement already satisfied: spacy<3.7.0,>=3.6.0 in /usr/local/lib/python3.10/dist-packages (from pt-core-news-lg==3.6.0) (3.6.1)\n",
            "Requirement already satisfied: spacy-legacy<3.1.0,>=3.0.11 in /usr/local/lib/python3.10/dist-packages (from spacy<3.7.0,>=3.6.0->pt-core-news-lg==3.6.0) (3.0.12)\n",
            "Requirement already satisfied: spacy-loggers<2.0.0,>=1.0.0 in /usr/local/lib/python3.10/dist-packages (from spacy<3.7.0,>=3.6.0->pt-core-news-lg==3.6.0) (1.0.5)\n",
            "Requirement already satisfied: murmurhash<1.1.0,>=0.28.0 in /usr/local/lib/python3.10/dist-packages (from spacy<3.7.0,>=3.6.0->pt-core-news-lg==3.6.0) (1.0.10)\n",
            "Requirement already satisfied: cymem<2.1.0,>=2.0.2 in /usr/local/lib/python3.10/dist-packages (from spacy<3.7.0,>=3.6.0->pt-core-news-lg==3.6.0) (2.0.8)\n",
            "Requirement already satisfied: preshed<3.1.0,>=3.0.2 in /usr/local/lib/python3.10/dist-packages (from spacy<3.7.0,>=3.6.0->pt-core-news-lg==3.6.0) (3.0.9)\n",
            "Requirement already satisfied: thinc<8.2.0,>=8.1.8 in /usr/local/lib/python3.10/dist-packages (from spacy<3.7.0,>=3.6.0->pt-core-news-lg==3.6.0) (8.1.12)\n",
            "Requirement already satisfied: wasabi<1.2.0,>=0.9.1 in /usr/local/lib/python3.10/dist-packages (from spacy<3.7.0,>=3.6.0->pt-core-news-lg==3.6.0) (1.1.2)\n",
            "Requirement already satisfied: srsly<3.0.0,>=2.4.3 in /usr/local/lib/python3.10/dist-packages (from spacy<3.7.0,>=3.6.0->pt-core-news-lg==3.6.0) (2.4.8)\n",
            "Requirement already satisfied: catalogue<2.1.0,>=2.0.6 in /usr/local/lib/python3.10/dist-packages (from spacy<3.7.0,>=3.6.0->pt-core-news-lg==3.6.0) (2.0.10)\n",
            "Requirement already satisfied: typer<0.10.0,>=0.3.0 in /usr/local/lib/python3.10/dist-packages (from spacy<3.7.0,>=3.6.0->pt-core-news-lg==3.6.0) (0.9.0)\n",
            "Requirement already satisfied: pathy>=0.10.0 in /usr/local/lib/python3.10/dist-packages (from spacy<3.7.0,>=3.6.0->pt-core-news-lg==3.6.0) (0.10.3)\n",
            "Requirement already satisfied: smart-open<7.0.0,>=5.2.1 in /usr/local/lib/python3.10/dist-packages (from spacy<3.7.0,>=3.6.0->pt-core-news-lg==3.6.0) (6.4.0)\n",
            "Requirement already satisfied: tqdm<5.0.0,>=4.38.0 in /usr/local/lib/python3.10/dist-packages (from spacy<3.7.0,>=3.6.0->pt-core-news-lg==3.6.0) (4.66.1)\n",
            "Requirement already satisfied: numpy>=1.15.0 in /usr/local/lib/python3.10/dist-packages (from spacy<3.7.0,>=3.6.0->pt-core-news-lg==3.6.0) (1.23.5)\n",
            "Requirement already satisfied: requests<3.0.0,>=2.13.0 in /usr/local/lib/python3.10/dist-packages (from spacy<3.7.0,>=3.6.0->pt-core-news-lg==3.6.0) (2.31.0)\n",
            "Requirement already satisfied: pydantic!=1.8,!=1.8.1,<3.0.0,>=1.7.4 in /usr/local/lib/python3.10/dist-packages (from spacy<3.7.0,>=3.6.0->pt-core-news-lg==3.6.0) (1.10.13)\n",
            "Requirement already satisfied: jinja2 in /usr/local/lib/python3.10/dist-packages (from spacy<3.7.0,>=3.6.0->pt-core-news-lg==3.6.0) (3.1.2)\n",
            "Requirement already satisfied: setuptools in /usr/local/lib/python3.10/dist-packages (from spacy<3.7.0,>=3.6.0->pt-core-news-lg==3.6.0) (67.7.2)\n",
            "Requirement already satisfied: packaging>=20.0 in /usr/local/lib/python3.10/dist-packages (from spacy<3.7.0,>=3.6.0->pt-core-news-lg==3.6.0) (23.2)\n",
            "Requirement already satisfied: langcodes<4.0.0,>=3.2.0 in /usr/local/lib/python3.10/dist-packages (from spacy<3.7.0,>=3.6.0->pt-core-news-lg==3.6.0) (3.3.0)\n",
            "Requirement already satisfied: typing-extensions>=4.2.0 in /usr/local/lib/python3.10/dist-packages (from pydantic!=1.8,!=1.8.1,<3.0.0,>=1.7.4->spacy<3.7.0,>=3.6.0->pt-core-news-lg==3.6.0) (4.5.0)\n",
            "Requirement already satisfied: charset-normalizer<4,>=2 in /usr/local/lib/python3.10/dist-packages (from requests<3.0.0,>=2.13.0->spacy<3.7.0,>=3.6.0->pt-core-news-lg==3.6.0) (3.3.2)\n",
            "Requirement already satisfied: idna<4,>=2.5 in /usr/local/lib/python3.10/dist-packages (from requests<3.0.0,>=2.13.0->spacy<3.7.0,>=3.6.0->pt-core-news-lg==3.6.0) (3.4)\n",
            "Requirement already satisfied: urllib3<3,>=1.21.1 in /usr/local/lib/python3.10/dist-packages (from requests<3.0.0,>=2.13.0->spacy<3.7.0,>=3.6.0->pt-core-news-lg==3.6.0) (2.0.7)\n",
            "Requirement already satisfied: certifi>=2017.4.17 in /usr/local/lib/python3.10/dist-packages (from requests<3.0.0,>=2.13.0->spacy<3.7.0,>=3.6.0->pt-core-news-lg==3.6.0) (2023.7.22)\n",
            "Requirement already satisfied: blis<0.8.0,>=0.7.8 in /usr/local/lib/python3.10/dist-packages (from thinc<8.2.0,>=8.1.8->spacy<3.7.0,>=3.6.0->pt-core-news-lg==3.6.0) (0.7.11)\n",
            "Requirement already satisfied: confection<1.0.0,>=0.0.1 in /usr/local/lib/python3.10/dist-packages (from thinc<8.2.0,>=8.1.8->spacy<3.7.0,>=3.6.0->pt-core-news-lg==3.6.0) (0.1.3)\n",
            "Requirement already satisfied: click<9.0.0,>=7.1.1 in /usr/local/lib/python3.10/dist-packages (from typer<0.10.0,>=0.3.0->spacy<3.7.0,>=3.6.0->pt-core-news-lg==3.6.0) (8.1.7)\n",
            "Requirement already satisfied: MarkupSafe>=2.0 in /usr/local/lib/python3.10/dist-packages (from jinja2->spacy<3.7.0,>=3.6.0->pt-core-news-lg==3.6.0) (2.1.3)\n",
            "Installing collected packages: pt-core-news-lg\n",
            "Successfully installed pt-core-news-lg-3.6.0\n",
            "\u001b[38;5;2m✔ Download and installation successful\u001b[0m\n",
            "You can now load the package via spacy.load('pt_core_news_lg')\n"
          ]
        }
      ],
      "source": [
        "!python -m spacy download pt_core_news_lg"
      ]
    },
    {
      "cell_type": "markdown",
      "metadata": {
        "id": "OLckh5luBa13"
      },
      "source": [
        "Dataset disponível em: https://www.gov.br/trabalho-e-emprego/pt-br/assuntos/inspecao-do-trabalho/areas-de-atuacao/combate-ao-trabalho-escravo-e-analogo-ao-de-escravo"
      ]
    },
    {
      "cell_type": "code",
      "execution_count": 2,
      "metadata": {
        "id": "fKN36Vy_6WZz"
      },
      "outputs": [],
      "source": [
        "import spacy\n",
        "\n",
        "nlp = spacy.load(\"pt_core_news_lg\")  # Modelo portugues large\n"
      ]
    },
    {
      "cell_type": "code",
      "execution_count": null,
      "metadata": {
        "colab": {
          "base_uri": "https://localhost:8080/"
        },
        "id": "rS9ggl0i6YOJ",
        "outputId": "ee3a3642-727d-4672-f59e-ab96471bae59"
      },
      "outputs": [
        {
          "name": "stdout",
          "output_type": "stream",
          "text": [
            "Localidade: PEDREGULHO\n",
            "Localidade: SP\n"
          ]
        }
      ],
      "source": [
        "# Frase de entrada\n",
        "frase = \"FAZENDA NOSSA SENHORA DAS GRAÇAS, ZONA RURAL, PEDREGULHO/SP\"\n",
        "\n",
        "# Processar a frase com spaCy\n",
        "doc = nlp(frase)\n",
        "\n",
        "# Iterar pelas entidades nomeadas no texto\n",
        "for entidade in doc.ents:\n",
        "    if entidade.label_ == \"LOC\":  # Localidades (cidade, estado, rua...)\n",
        "        cidade = entidade.text\n",
        "        print(\"Localidade:\", cidade)\n"
      ]
    },
    {
      "cell_type": "code",
      "execution_count": null,
      "metadata": {
        "colab": {
          "base_uri": "https://localhost:8080/"
        },
        "id": "_T8mh9dH7OtQ",
        "outputId": "1c17ad89-77ca-4d66-c04a-c1d832e626db"
      },
      "outputs": [
        {
          "name": "stdout",
          "output_type": "stream",
          "text": [
            "palavra: RODOVIA PI\n",
            "entidade: LOC\n",
            "palavra: SENTIDO\n",
            "entidade: LOC\n",
            "palavra: CABACEIRAS\n",
            "entidade: LOC\n",
            "palavra: Nº S/N\n",
            "entidade: MISC\n",
            "palavra: BARRAS\n",
            "entidade: LOC\n",
            "palavra: PI\n",
            "entidade: LOC\n"
          ]
        }
      ],
      "source": [
        "frase = \"CERÂMICA J.A, RODOVIA PI, SENTIDO DE BARRAS A CABACEIRAS, KM 7, Nº S/N, ZONA RURAL, BARRAS/PI. \"\n",
        "\n",
        "doc = nlp(frase)\n",
        "\n",
        "for entidade in doc.ents:\n",
        "      print(\"palavra:\", entidade.text)\n",
        "      print(\"entidade:\", entidade.label_)\n"
      ]
    },
    {
      "cell_type": "code",
      "execution_count": null,
      "metadata": {
        "id": "Xlg7vPPG7f5g"
      },
      "outputs": [],
      "source": [
        "import pandas as pd\n",
        "\n",
        "# fonte https://www.gov.br/trabalho-e-emprego/pt-br/assuntos/inspecao-do-trabalho/areas-de-atuacao/combate-ao-trabalho-escravo-e-analogo-ao-de-escravo\n",
        "url = 'https://www.gov.br/trabalho-e-emprego/pt-br/assuntos/inspecao-do-trabalho/areas-de-atuacao/cadastro_de_empregadores.csv'\n",
        "\n",
        "df = pd.read_csv(url, encoding='latin-1', sep=';', header=0, skiprows=5, skipfooter=0)"
      ]
    },
    {
      "cell_type": "code",
      "execution_count": null,
      "metadata": {
        "colab": {
          "base_uri": "https://localhost:8080/"
        },
        "id": "p4wu0WBs7j9n",
        "outputId": "a5afafd0-8d71-49e8-e1d0-f9347bd85656"
      },
      "outputs": [
        {
          "name": "stderr",
          "output_type": "stream",
          "text": [
            "<ipython-input-10-ae310941f469>:3: SettingWithCopyWarning: \n",
            "A value is trying to be set on a copy of a slice from a DataFrame\n",
            "\n",
            "See the caveats in the documentation: https://pandas.pydata.org/pandas-docs/stable/user_guide/indexing.html#returning-a-view-versus-a-copy\n",
            "  df.dropna(inplace=True)\n"
          ]
        }
      ],
      "source": [
        "# Remover colunas vazias\n",
        "df = df.loc[:, df.notna().any()]\n",
        "df.dropna(inplace=True)"
      ]
    },
    {
      "cell_type": "code",
      "execution_count": null,
      "metadata": {
        "colab": {
          "base_uri": "https://localhost:8080/"
        },
        "id": "OFFkcCVR9bZp",
        "outputId": "d4034876-c64e-4374-83ef-31744016d59d"
      },
      "outputs": [
        {
          "data": {
            "text/plain": [
              "0      CERÂMICA J.A, RODOVIA PI, SENTIDO DE BARRAS A ...\n",
              "1              FAZENZA BELA VISTA, ZONA RURAL, ITINGA/MA\n",
              "2      SÍTIO TUMITAN, ZONA RURAL, ALFREDO MARCONDES/S...\n",
              "3      RUA SARCANTO, 37, CASA 01, BAIRRO JARDIM FLOR ...\n",
              "4      FAZENDA NATANAEL, ZONA RURAL, RIO PARDO DE MIN...\n",
              "                             ...                        \n",
              "466    FAZENDA RIO BRANCO, ESTRADA DA RUFINA, KM 11, ...\n",
              "467    CÓRREGO DO MACUCO, DISTRITO DE PIRACEMA, AFONS...\n",
              "468     LUNAPARK. GALPÃO NA RODOVIA BR-415 (AV. IBICA...\n",
              "469    RUA FIRMINO MORGADO, Nº 293, BAIRRO JARDIM BRA...\n",
              "472    FAZENDA TANQUES, ZONA RURAL, SÃO GONÇALO DO AB...\n",
              "Name: Estabelecimento, Length: 468, dtype: object"
            ]
          },
          "execution_count": 13,
          "metadata": {},
          "output_type": "execute_result"
        }
      ],
      "source": [
        "# dados usados para treino\n",
        "df['Estabelecimento']"
      ]
    },
    {
      "cell_type": "markdown",
      "metadata": {
        "id": "86kDiWxuNfBx"
      },
      "source": [
        "### Treinando meu modelo customizado para encontrar apenas cidades e estado"
      ]
    },
    {
      "cell_type": "code",
      "execution_count": null,
      "metadata": {
        "id": "WKBU7hvBNb0-"
      },
      "outputs": [],
      "source": [
        "# meus dados de treino gerados no doccano (quantidade: 1)\n",
        "TRAIN_DATA = [{'id': 87, 'text': 'CERÂMICA J.A, RODOVIA PI, SENTIDO DE BARRAS A CABACEIRAS, KM 7, Nº S/N, ZONA RURAL, BARRAS/PI', \"label\":[[84,90,\"CITY\"],[91,93,\"STATE\"]], 'Comments': []},]"
      ]
    },
    {
      "cell_type": "code",
      "execution_count": 3,
      "metadata": {
        "id": "H5wYmKFvQd-o"
      },
      "outputs": [],
      "source": [
        "# mais dados de treino gerados no doccano (quantidade: 29)\n",
        "TRAIN_DATA = [{'id': 2823, 'text': 'SÍTIO TUMITAN, ZONA RURAL, ALFREDO MARCONDES/SP', 'label': [[27, 44, 'CITY'], [45, 47, 'STATE']], 'Comments': []}, {'id': 2824, 'text': 'RUA SARCANTO, 37, CASA 01, BAIRRO JARDIM FLOR DE MAIO, SÃO PAULO/SP', 'label': [[55, 64, 'CITY'], [65, 67, 'STATE']], 'Comments': []}, {'id': 2825, 'text': 'FAZENDA NATANAEL, ZONA RURAL, RIO PARDO DE MINAS/MG', 'label': [[30, 48, 'CITY'], [49, 51, 'STATE']], 'Comments': []}, {'id': 2826, 'text': 'SÍTIO BELA VISTA I, S/N, ZONA RURAL, ENTRE O DISTRITO DO ENTRONCAMENTO (CARNAUBAIS/RN) E O MUNICÍPIO DE ALTO RODRIGUES, CARNAUBAIS/RN.', 'label': [[120, 130, 'CITY'], [131, 133, 'STATE']], 'Comments': []}, {'id': 2827, 'text': 'GARIMPO DE AMETISTA, RODOVIA BA-210, SERRA DA QUIXABA, PARQUE NACIONAL DO BOQUEIRÃO DA ONÇA, ZONA RURAL, SENTO SÉ/BA', 'label': [[105, 113, 'CITY'], [114, 116, 'STATE']], 'Comments': []}, {'id': 2828, 'text': 'FAZENDA BAHIANA, CAMPO DE JACÓ, PROJETO ALASCA, ZONA RURAL, SANTA LUZIA/BA.', 'label': [[60, 71, 'CITY'], [72, 74, 'STATE']], 'Comments': []}, {'id': 2822, 'text': 'FAZENZA BELA VISTA, ZONA RURAL, ITINGA/MA', 'label': [[32, 38, 'CITY'], [39, 41, 'STATE']], 'Comments': []}, {'id': 2821, 'text': 'CERÂMICA J.A, RODOVIA PI, SENTIDO DE BARRAS A CABACEIRAS, KM 7, Nº S/N, ZONA RURAL, BARRAS/PI.', 'label': [[84, 90, 'CITY'], [91, 93, 'STATE']], 'Comments': []}, {'id': 2829, 'text': 'GARIMPO DO SALOMÃO - FAZENDA SERRA RICA - VILA CANGAIA, ZONA RURAL, CUMARU DO NORTE/PA', 'label': [[68, 83, 'CITY'], [84, 86, 'STATE']], 'Comments': []}, {'id': 2830, 'text': 'FAZENDA PEDRA BRANCA, ZONA RURAL, NOVA IPIXUNA/PA', 'label': [[34, 46, 'CITY'], [47, 49, 'STATE']], 'Comments': []}, {'id': 2831, 'text': 'FAZENDA PRIMAVERA, NOVA IPIXUNA/PA', 'label': [[19, 31, 'CITY'], [32, 34, 'STATE']], 'Comments': []}, {'id': 2832, 'text': 'ALOJAMENTO E PONTOS DE PROSTITUIÇÃO DE PROFISSIONAIS DO SEXO, NA CIDADE DE RIBEIRÃO PRETO/SP.', 'label': [[75, 89, 'CITY'], [90, 92, 'STATE']], 'Comments': []}, {'id': 2833, 'text': 'ROD GO 164, FAZENDA SÃO FRANCK, ZONA RURAL, ACREÚNA/GO.', 'label': [[44, 51, 'CITY'], [52, 54, 'STATE']], 'Comments': []}, {'id': 2834, 'text': 'ROD RS 324 KM 270.5, VILA ZUCCHETTI, NOVA ARAÇA/RS', 'label': [[37, 47, 'CITY'], [48, 50, 'STATE']], 'Comments': []}, {'id': 2835, 'text': 'AGROCOL, RODOVIA BR-050, PRÓXIMO AO KM 158, SENTIDO UBERABA-UBERLÂNDIA, UBERABA/MG', 'label': [[72, 79, 'CITY'], [80, 82, 'STATE']], 'Comments': []}, {'id': 2836, 'text': 'AVENIDA CONSELHEIRO FURTADO, 76, BATISTA CAMPOS, BELÉM/PA', 'label': [[49, 54, 'CITY'], [55, 57, 'STATE']], 'Comments': []}, {'id': 2838, 'text': 'FAZENDA FORMOSO II, ZONA RURAL, BURITIZEIRO/MG', 'label': [[32, 43, 'CITY'], [44, 46, 'STATE']], 'Comments': []}, {'id': 2839, 'text': 'CARNAUBAIS, LOCALIZADOS NO SÍTIO PANON 1, ZONA RURAL, CEP 59.650-000, AÇU/RN.', 'label': [[70, 73, 'CITY'], [74, 76, 'STATE']], 'Comments': []}, {'id': 2840, 'text': 'FAZENDA SÃO JUDAS TADEU, ZONA RURAL, UBERABA/MG', 'label': [[37, 44, 'CITY'], [45, 47, 'STATE']], 'Comments': []}, {'id': 2841, 'text': 'PROPRIEDADE RURAL, LOCALIZADA EM PICADA SÃO PAULO, ZONA RURAL, MORRO REUTER/RS.', 'label': [[62, 75, 'CITY'], [76, 78, 'STATE']], 'Comments': []}, {'id': 2842, 'text': 'RODOVIA BR 030, KM 92, SENTIDO CHAPADA GAÚCHA A MONTALVÂNIA, SN, ZONA RURAL, BONITO DE MINAS/MG', 'label': [[77, 92, 'CITY'], [93, 95, 'STATE']], 'Comments': []}, {'id': 2843, 'text': 'FÁBRICA , ALOJAMENTO E DEMAIS INSTALAÇÕES JUNTO A SEDE DA IGREJA LOCALIZADA NA QNM 5 CONJ. O, LOTE 31, CEILÂNDIA, BRASÍLIA/DF', 'label': [[114, 122, 'CITY'], [123, 125, 'STATE']], 'Comments': []}, {'id': 2844, 'text': 'PEDREIRA VEREDA, RODOVIA PI-248, S/N, ZONA RURAL, FLORES DO PIAUÍ/PI', 'label': [[50, 65, 'CITY'], [66, 68, 'STATE']], 'Comments': []}, {'id': 2845, 'text': 'FAZENDA BARRA DO SALITRE, ZONA RURAL, PATROCÍNIO/MG', 'label': [[38, 48, 'CITY'], [49, 51, 'STATE']], 'Comments': []}, {'id': 2846, 'text': 'FAZENDA BARRA DA CACHOEIRINHA, SÃO SEBASTIÃO, ZONA RURAL, BRASÍLIA/DF', 'label': [[58, 66, 'CITY'], [67, 69, 'STATE']], 'Comments': []}, {'id': 2847, 'text': 'FAZENDA ESPERANÇA, RODOVIA TO 080, ZONA RURAL, PARAÍSO/TO', 'label': [[47, 54, 'CITY'], [55, 57, 'STATE']], 'Comments': []}, {'id': 2848, 'text': 'CENTRO, PARANAVAÍ/PR', 'label': [[8, 17, 'CITY'], [18, 20, 'STATE']], 'Comments': []}, {'id': 2849, 'text': 'BAIRRO BELA VISTA, CAMPO BOM/RS.', 'label': [[19, 28, 'CITY'], [29, 31, 'STATE']], 'Comments': []}, {'id': 2850, 'text': 'ALOJAMENTO E PONTOS DE PROSTITUIÇÃO DE PROFISSIONAIS DO SEXO NA CIDADE DE RIBEIRÃO PRETO/SP', 'label': [[74, 88, 'CITY'], [89, 91, 'STATE']], 'Comments': []}]"
      ]
    },
    {
      "cell_type": "code",
      "execution_count": 4,
      "metadata": {
        "id": "iignq9liNzK4"
      },
      "outputs": [],
      "source": [
        "import spacy\n",
        "import random\n",
        "from spacy.training.example import Example\n",
        "\n",
        "# Carregue o modelo em branco do spaCy\n",
        "nlp = spacy.blank(\"pt\")\n",
        "\n",
        "# Cria um componente NER (name entity recognition) vazio e adicione-o ao pipeline\n",
        "ner = nlp.add_pipe(\"ner\")\n",
        "\n",
        "# Inicializa o 'treinador'\n",
        "optimizer = nlp.begin_training()"
      ]
    },
    {
      "cell_type": "code",
      "execution_count": 10,
      "metadata": {
        "colab": {
          "base_uri": "https://localhost:8080/"
        },
        "id": "1bDwm2jU9caN",
        "outputId": "ac265985-74ae-4976-93a1-dc01e599dcdf"
      },
      "outputs": [
        {
          "name": "stdout",
          "output_type": "stream",
          "text": [
            "{'ner': 1.9999288121333676}\n",
            "{'ner': 0.0022332629232846113}\n",
            "{'ner': 2.8131901467760336}\n",
            "{'ner': 1.9093920237868283}\n",
            "{'ner': 7.049812695339694}\n",
            "{'ner': 0.1278002378001104}\n",
            "{'ner': 0.33908033391150766}\n",
            "{'ner': 4.0904129481729465e-09}\n",
            "{'ner': 0.10370754849641647}\n",
            "{'ner': 2.4696417259028663e-08}\n",
            "{'ner': 0.0001323241669843299}\n",
            "{'ner': 2.338408619565555e-08}\n",
            "{'ner': 0.057605543015026274}\n",
            "{'ner': 3.941203800492424}\n",
            "{'ner': 0.24340946043957115}\n",
            "{'ner': 3.7324215976878437}\n",
            "{'ner': 1.9278717454087544}\n",
            "{'ner': 0.5571812739530403}\n",
            "{'ner': 1.2066301628491378}\n",
            "{'ner': 1.9885779619235238}\n",
            "{'ner': 0.02294171233971414}\n",
            "{'ner': 0.0034086965216392233}\n",
            "{'ner': 3.982321815964601e-06}\n",
            "{'ner': 0.0023812360431789445}\n",
            "{'ner': 0.07478294216895148}\n",
            "{'ner': 0.19497040307985838}\n",
            "{'ner': 1.541572756457579}\n",
            "{'ner': 0.0010982870786989088}\n",
            "{'ner': 0.7634688453686671}\n",
            "{'ner': 2.007775291117065}\n",
            "{'ner': 0.2263891473499463}\n",
            "{'ner': 0.0003177261843135507}\n",
            "{'ner': 1.7184749501197454e-05}\n",
            "{'ner': 0.009459862271557285}\n",
            "{'ner': 0.0005158875558576577}\n",
            "{'ner': 3.730388389978608e-08}\n",
            "{'ner': 3.688986969479671e-12}\n",
            "{'ner': 7.978570176549842e-07}\n",
            "{'ner': 2.008251808622735e-10}\n",
            "{'ner': 3.2948465044476645e-10}\n",
            "{'ner': 3.7265283010561625e-11}\n",
            "{'ner': 2.0000845203458693}\n",
            "{'ner': 7.28759461813027e-11}\n",
            "{'ner': 1.2668199957826889e-08}\n",
            "{'ner': 4.409638826594137e-08}\n",
            "{'ner': 1.0130045481652522e-13}\n",
            "{'ner': 0.2391666647148994}\n",
            "{'ner': 1.9970357423445935}\n",
            "{'ner': 4.7251979663432854e-05}\n",
            "{'ner': 2.2921315285803163e-06}\n",
            "{'ner': 5.405273864690244e-10}\n",
            "{'ner': 3.6509284803965167}\n",
            "{'ner': 0.0004591951494888373}\n",
            "{'ner': 0.00015373955026227714}\n",
            "{'ner': 2.007758361027039}\n",
            "{'ner': 0.0005200043293412507}\n",
            "{'ner': 9.219012706560131e-05}\n",
            "{'ner': 1.7639934007124398}\n",
            "{'ner': 1.999999321938085}\n",
            "{'ner': 0.00010634464523592735}\n",
            "{'ner': 6.412737130419662e-08}\n",
            "{'ner': 1.8683701152977215}\n",
            "{'ner': 1.6931414658990102e-05}\n",
            "{'ner': 0.01456693559173765}\n",
            "{'ner': 1.4796203190852285e-07}\n",
            "{'ner': 2.061726901569761}\n",
            "{'ner': 2.0072632413186624}\n",
            "{'ner': 2.0444990997720804}\n",
            "{'ner': 5.834644527946623}\n",
            "{'ner': 0.06632062720277367}\n",
            "{'ner': 2.056681224088965}\n",
            "{'ner': 2.33453584654678}\n",
            "{'ner': 5.4869934366508006e-05}\n",
            "{'ner': 0.00016496540831698845}\n",
            "{'ner': 1.9876515960964978}\n",
            "{'ner': 0.807208683060174}\n",
            "{'ner': 1.9505819329330614}\n",
            "{'ner': 2.202779810459785e-08}\n",
            "{'ner': 2.3610519729439804e-10}\n",
            "{'ner': 2.7351250595062946}\n",
            "{'ner': 1.6999685564997769}\n",
            "{'ner': 0.008913873694870766}\n",
            "{'ner': 0.0022637247235621685}\n",
            "{'ner': 3.999267676274882}\n",
            "{'ner': 1.9983073464656296}\n",
            "{'ner': 0.0004550977714081269}\n",
            "{'ner': 7.334704252309847e-06}\n",
            "{'ner': 0.0001532911775041793}\n",
            "{'ner': 2.364290597051978e-18}\n",
            "{'ner': 0.0003575681184886612}\n",
            "{'ner': 5.610108019044116e-06}\n",
            "{'ner': 5.999295949935936}\n",
            "{'ner': 1.8149140437289e-11}\n",
            "{'ner': 0.002706752213554058}\n",
            "{'ner': 1.9985623372650967}\n",
            "{'ner': 7.96441371206316e-12}\n",
            "{'ner': 4.4823437678873934e-11}\n",
            "{'ner': 6.481545011054134e-06}\n",
            "{'ner': 5.083153373685409e-11}\n",
            "{'ner': 1.6425983269385873e-09}\n"
          ]
        }
      ],
      "source": [
        "# Loop de treinamento\n",
        "for iteration in range(100):\n",
        "  # Embaralha os dados de treinamento (TRAIN_DATA) a cada iteraçã\n",
        "    random.shuffle(TRAIN_DATA)\n",
        "    losses = {}\n",
        "    for dic in TRAIN_DATA:\n",
        "      # Cria um dicionário no formato necessário para o treinamento do spaCy, onde 'entities'\n",
        "      #  contém as informações sobre as entidades presentes no texto.\n",
        "        dicionario = {\"entities\": dic['label']}\n",
        "        # Cria um exemplo de treinamento usando Example.from_dict\n",
        "        example = Example.from_dict(nlp.make_doc(dic['text']), dicionario)\n",
        "        # Atualiza o modelo com o exemplo de treinamento usando nlp.update\n",
        "        # O parâmetro drop=0.5 indica que 50% dos gradientes serão descartados durante o treinamento, \n",
        "        # o que ajuda a evitar overfitting\n",
        "        nlp.update([example], drop=0.5, losses=losses)\n",
        "        # losses armazena as perdas (loss) durante o treinamento.\n",
        "    print(losses)\n"
      ]
    },
    {
      "cell_type": "code",
      "execution_count": 8,
      "metadata": {
        "colab": {
          "base_uri": "https://localhost:8080/"
        },
        "id": "KsWZrJmtNKwb",
        "outputId": "6b071bb4-4e9d-41a9-bdc8-338f0e9921e0"
      },
      "outputs": [
        {
          "name": "stdout",
          "output_type": "stream",
          "text": [
            "RIO VERMELHO 38 50 CITY\n",
            "MG 51 53 STATE\n"
          ]
        }
      ],
      "source": [
        "# Teste\n",
        "texto_de_teste = \"FAZENDA DAS PALMEIRAS, NA ZONA RURAL, RIO VERMELHO/MG\"\n",
        "\n",
        "# Processar texto de teste\n",
        "doc = nlp(texto_de_teste)\n",
        "\n",
        "# Extrair entidades nomeadas reconhecidas\n",
        "for ent in doc.ents:\n",
        "    print(ent.text, ent.start_char, ent.end_char, ent.label_)"
      ]
    },
    {
      "cell_type": "code",
      "execution_count": 9,
      "metadata": {
        "colab": {
          "base_uri": "https://localhost:8080/"
        },
        "id": "YM_D9oVW1rV2",
        "outputId": "ca08878f-9bb5-44c1-e711-9fa91a8814f8"
      },
      "outputs": [
        {
          "name": "stdout",
          "output_type": "stream",
          "text": [
            "Redonda 28 35 CITY\n",
            "RJ 36 38 STATE\n"
          ]
        }
      ],
      "source": [
        "texto_de_teste = \"rua paraíba, nº 223,  Volta Redonda/RJ\"\n",
        "\n",
        "doc = nlp(texto_de_teste)\n",
        "\n",
        "for ent in doc.ents:\n",
        "    print(ent.text, ent.start_char, ent.end_char, ent.label_)"
      ]
    }
  ],
  "metadata": {
    "accelerator": "GPU",
    "colab": {
      "gpuType": "T4",
      "provenance": []
    },
    "kernelspec": {
      "display_name": "Python 3",
      "name": "python3"
    },
    "language_info": {
      "name": "python"
    }
  },
  "nbformat": 4,
  "nbformat_minor": 0
}
